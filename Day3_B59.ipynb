{
 "cells": [
  {
   "cell_type": "code",
   "execution_count": null,
   "id": "c98de355-ff52-4bdc-8c11-fb83a775a67b",
   "metadata": {},
   "outputs": [],
   "source": [
    "Continuation with strings:"
   ]
  },
  {
   "cell_type": "code",
   "execution_count": null,
   "id": "dea32a87-823b-427a-b057-e74667117fbc",
   "metadata": {},
   "outputs": [],
   "source": []
  },
  {
   "cell_type": "code",
   "execution_count": null,
   "id": "7e0bd8b2-3409-4206-b370-8343eb1f5f1b",
   "metadata": {},
   "outputs": [],
   "source": [
    "Introduction to string methods :\n",
    "    \n",
    "    - Built in programs that are readily available in python to use"
   ]
  },
  {
   "cell_type": "code",
   "execution_count": null,
   "id": "d621c213-b75a-4e83-a2eb-f2f9443dfd82",
   "metadata": {},
   "outputs": [],
   "source": []
  },
  {
   "cell_type": "code",
   "execution_count": 1,
   "id": "f83ee623-33be-4c16-80e4-50ef907b7d49",
   "metadata": {},
   "outputs": [
    {
     "name": "stdout",
     "output_type": "stream",
     "text": [
      "vindhya\n"
     ]
    }
   ],
   "source": [
    "name = 'vindhya'\n",
    "print(name)"
   ]
  },
  {
   "cell_type": "code",
   "execution_count": null,
   "id": "c2fcf1c6-d1fc-4db9-980c-0b0e79ed21bc",
   "metadata": {},
   "outputs": [],
   "source": []
  },
  {
   "cell_type": "code",
   "execution_count": 2,
   "id": "c185c4a6-92d5-4134-b26a-4df3e3dcb35a",
   "metadata": {},
   "outputs": [
    {
     "data": {
      "text/plain": [
       "str"
      ]
     },
     "execution_count": 2,
     "metadata": {},
     "output_type": "execute_result"
    }
   ],
   "source": [
    "type(name)"
   ]
  },
  {
   "cell_type": "code",
   "execution_count": null,
   "id": "7549af0e-74db-4f20-8e0f-0c81f8572271",
   "metadata": {},
   "outputs": [],
   "source": []
  },
  {
   "cell_type": "code",
   "execution_count": null,
   "id": "79d7092c-87be-4b0c-99b1-d03ac1fca659",
   "metadata": {},
   "outputs": [],
   "source": [
    "string ---> str"
   ]
  },
  {
   "cell_type": "code",
   "execution_count": null,
   "id": "0ad08fc4-3ef2-4103-817f-51d43bbf4f78",
   "metadata": {},
   "outputs": [],
   "source": []
  },
  {
   "cell_type": "code",
   "execution_count": 4,
   "id": "69f7f942-a7e8-46a3-9a1d-584074e96f7a",
   "metadata": {},
   "outputs": [
    {
     "name": "stdout",
     "output_type": "stream",
     "text": [
      "naveen\n"
     ]
    }
   ],
   "source": [
    "name1 = \"naveen\"\n",
    "print(name1)"
   ]
  },
  {
   "cell_type": "code",
   "execution_count": null,
   "id": "798a23e0-f15e-4d8d-9d34-5f1517b04923",
   "metadata": {},
   "outputs": [],
   "source": [
    "****Type Method"
   ]
  },
  {
   "cell_type": "code",
   "execution_count": 5,
   "id": "091a3b44-8b63-4b67-90f5-3332636a3932",
   "metadata": {},
   "outputs": [
    {
     "data": {
      "text/plain": [
       "str"
      ]
     },
     "execution_count": 5,
     "metadata": {},
     "output_type": "execute_result"
    }
   ],
   "source": [
    "type(name1)"
   ]
  },
  {
   "cell_type": "code",
   "execution_count": null,
   "id": "2886f232-14c1-4dd8-8cc7-f3c789559e0b",
   "metadata": {},
   "outputs": [],
   "source": []
  },
  {
   "cell_type": "code",
   "execution_count": 6,
   "id": "b971e13c-1b2d-4a7c-8c18-6eaf1e1cca84",
   "metadata": {},
   "outputs": [
    {
     "name": "stdout",
     "output_type": "stream",
     "text": [
      "rajesh kumar\n"
     ]
    }
   ],
   "source": [
    "fullname = \"rajesh kumar\"\n",
    "print(fullname)"
   ]
  },
  {
   "cell_type": "code",
   "execution_count": null,
   "id": "5b1f0045-9530-439a-8d81-ef9730b4fd4d",
   "metadata": {},
   "outputs": [],
   "source": [
    "****Title Method"
   ]
  },
  {
   "cell_type": "code",
   "execution_count": 7,
   "id": "5bcbe77b-c592-4e1c-8d69-912d2e83beee",
   "metadata": {},
   "outputs": [
    {
     "name": "stdout",
     "output_type": "stream",
     "text": [
      "Rajesh Kumar\n"
     ]
    }
   ],
   "source": [
    "print(fullname.title())"
   ]
  },
  {
   "cell_type": "code",
   "execution_count": null,
   "id": "bb225524-e118-4d95-b20e-45d45b5155b7",
   "metadata": {},
   "outputs": [],
   "source": []
  },
  {
   "cell_type": "code",
   "execution_count": null,
   "id": "23ff5242-75de-4fda-89f0-b65891c2614e",
   "metadata": {},
   "outputs": [],
   "source": [
    "**** To get the full name in capital letters"
   ]
  },
  {
   "cell_type": "code",
   "execution_count": null,
   "id": "e967b294-1bf0-4328-af9f-1d89b51b5743",
   "metadata": {},
   "outputs": [],
   "source": [
    "**** upper Method"
   ]
  },
  {
   "cell_type": "code",
   "execution_count": 8,
   "id": "2bce22d7-e28b-434b-97c8-bc02831f822f",
   "metadata": {},
   "outputs": [
    {
     "name": "stdout",
     "output_type": "stream",
     "text": [
      "RAJESH KUMAR\n"
     ]
    }
   ],
   "source": [
    "print(fullname.upper())"
   ]
  },
  {
   "cell_type": "code",
   "execution_count": null,
   "id": "0e3f6176-a707-4362-a3d3-6f96fa25ae70",
   "metadata": {},
   "outputs": [],
   "source": []
  },
  {
   "cell_type": "code",
   "execution_count": null,
   "id": "4a8c87b7-bd47-4dea-943e-39c7e0dbffd4",
   "metadata": {},
   "outputs": [],
   "source": [
    "**** To get the full name in small case letters"
   ]
  },
  {
   "cell_type": "code",
   "execution_count": null,
   "id": "82d37557-2d73-4608-880e-ba534f9f171a",
   "metadata": {},
   "outputs": [],
   "source": [
    "**** lower method"
   ]
  },
  {
   "cell_type": "code",
   "execution_count": 9,
   "id": "feab6a06-29d8-4628-b06e-e707fc1ad238",
   "metadata": {},
   "outputs": [
    {
     "name": "stdout",
     "output_type": "stream",
     "text": [
      "rajesh kumar\n"
     ]
    }
   ],
   "source": [
    "print(fullname.lower())"
   ]
  },
  {
   "cell_type": "code",
   "execution_count": null,
   "id": "64722a19-4a5b-437e-92f9-528d9d2d80ce",
   "metadata": {},
   "outputs": [],
   "source": []
  },
  {
   "cell_type": "code",
   "execution_count": null,
   "id": "b56ffda2-c5bf-45c9-8b5a-c82a11bae3c7",
   "metadata": {},
   "outputs": [],
   "source": [
    "###Introduction to f strings"
   ]
  },
  {
   "cell_type": "code",
   "execution_count": null,
   "id": "6ccf5384-f188-4b66-8731-356d872bf270",
   "metadata": {},
   "outputs": [],
   "source": [
    "# General syntax for f strings"
   ]
  },
  {
   "cell_type": "code",
   "execution_count": null,
   "id": "4208b175-e0e4-4bfa-a0d8-1adb6306211f",
   "metadata": {},
   "outputs": [],
   "source": [
    "f\" custom message {placeholder1} {placeholder2}...{placeholdern}\""
   ]
  },
  {
   "cell_type": "code",
   "execution_count": null,
   "id": "8b7ab03e-b861-451e-9e84-2256f60c5f06",
   "metadata": {},
   "outputs": [],
   "source": []
  },
  {
   "cell_type": "code",
   "execution_count": 10,
   "id": "7e745826-f5c5-49e6-abc3-75c83f776d18",
   "metadata": {},
   "outputs": [],
   "source": [
    "firstname = \"vamsi\"\n",
    "lastname = \"chowdhary\""
   ]
  },
  {
   "cell_type": "code",
   "execution_count": null,
   "id": "d7f2b090-5ed7-4447-a468-d2b4fc058db3",
   "metadata": {},
   "outputs": [],
   "source": [
    "# how to get the full name ?"
   ]
  },
  {
   "cell_type": "code",
   "execution_count": 11,
   "id": "d37a5588-cbc0-4c63-8f28-c9726f8955bd",
   "metadata": {},
   "outputs": [
    {
     "name": "stdout",
     "output_type": "stream",
     "text": [
      "vamsi chowdhary\n"
     ]
    }
   ],
   "source": [
    "full_name = f\"{firstname} {lastname}\"\n",
    "print(full_name)"
   ]
  },
  {
   "cell_type": "code",
   "execution_count": 13,
   "id": "866f37a1-f5fd-4d56-9447-7a4b317f4436",
   "metadata": {},
   "outputs": [
    {
     "name": "stdout",
     "output_type": "stream",
     "text": [
      "Vamsi Chowdhary\n"
     ]
    }
   ],
   "source": [
    "print(full_name.title())"
   ]
  },
  {
   "cell_type": "code",
   "execution_count": null,
   "id": "d353a09d-5a4e-47c8-b27f-993471a2e1ca",
   "metadata": {},
   "outputs": [],
   "source": [
    "# what is the custom message, ****important topic - asked in interviews****"
   ]
  },
  {
   "cell_type": "code",
   "execution_count": 16,
   "id": "dd97910a-efc1-471c-8f68-40ee89da21ca",
   "metadata": {},
   "outputs": [
    {
     "name": "stdout",
     "output_type": "stream",
     "text": [
      "keep up the good work, Vamsi Chowdhary\n"
     ]
    }
   ],
   "source": [
    "message = f\"keep up the good work, {full_name.title()}\"\n",
    "print(message)"
   ]
  },
  {
   "cell_type": "code",
   "execution_count": null,
   "id": "5407a3ab-729d-484c-aa5a-ad50a2af9bcd",
   "metadata": {},
   "outputs": [],
   "source": []
  },
  {
   "cell_type": "code",
   "execution_count": null,
   "id": "9d35af0f-7e02-4798-ac71-183811cfd295",
   "metadata": {},
   "outputs": [],
   "source": [
    "Adding whitespaces to strings :"
   ]
  },
  {
   "cell_type": "code",
   "execution_count": null,
   "id": "b5728d84-d0a3-4685-8221-e24255345811",
   "metadata": {},
   "outputs": [],
   "source": []
  },
  {
   "cell_type": "code",
   "execution_count": 17,
   "id": "b423dfad-e2dd-41ef-b34d-2fe614f72e81",
   "metadata": {},
   "outputs": [
    {
     "name": "stdout",
     "output_type": "stream",
     "text": [
      "favorite_language:pythonc++javapascalcobal\n"
     ]
    }
   ],
   "source": [
    "print(\"favorite_language:pythonc++javapascalcobal\")"
   ]
  },
  {
   "cell_type": "code",
   "execution_count": 18,
   "id": "f2d566d5-f360-4a52-99f4-e10a7535c8ba",
   "metadata": {},
   "outputs": [
    {
     "name": "stdout",
     "output_type": "stream",
     "text": [
      "favorite_language:\n",
      "python\n",
      "c++\n",
      "java\n",
      "pascal\n",
      "cobal\n"
     ]
    }
   ],
   "source": [
    "print(\"favorite_language:\\npython\\nc++\\njava\\npascal\\ncobal\")"
   ]
  },
  {
   "cell_type": "code",
   "execution_count": null,
   "id": "80f03b24-985e-494e-8738-7dd034b6b43d",
   "metadata": {},
   "outputs": [],
   "source": [
    "\\n -----> new line delimiter"
   ]
  },
  {
   "cell_type": "code",
   "execution_count": null,
   "id": "7c3b24e4-b55b-4dae-a2d8-fe7371afe210",
   "metadata": {},
   "outputs": [],
   "source": []
  },
  {
   "cell_type": "code",
   "execution_count": 19,
   "id": "87ac8331-69bf-40dc-9e1a-eaac0382ce84",
   "metadata": {},
   "outputs": [
    {
     "name": "stdout",
     "output_type": "stream",
     "text": [
      "favorite_language:\n",
      "\tpython\n",
      "\tc++\n",
      "\tjava\n",
      "\tpascal\n",
      "\tcobal\n"
     ]
    }
   ],
   "source": [
    "print(\"favorite_language:\\n\\tpython\\n\\tc++\\n\\tjava\\n\\tpascal\\n\\tcobal\")"
   ]
  },
  {
   "cell_type": "code",
   "execution_count": null,
   "id": "3e44ea01-7495-40ba-bc7b-b35c401d3a25",
   "metadata": {},
   "outputs": [],
   "source": [
    "\\t ----> tab delimiter"
   ]
  },
  {
   "cell_type": "code",
   "execution_count": null,
   "id": "4a427209-9a40-4ab4-870d-1c2db0de4973",
   "metadata": {},
   "outputs": [],
   "source": []
  },
  {
   "cell_type": "code",
   "execution_count": null,
   "id": "ec17b57b-d5ab-4f96-8ef1-797053c25b35",
   "metadata": {},
   "outputs": [],
   "source": []
  },
  {
   "cell_type": "code",
   "execution_count": null,
   "id": "3c316023-862d-4bf7-a32d-98ca178c9c46",
   "metadata": {},
   "outputs": [],
   "source": []
  },
  {
   "cell_type": "code",
   "execution_count": null,
   "id": "4bb6ca6c-a98b-48bb-8853-1022684532c3",
   "metadata": {},
   "outputs": [],
   "source": []
  },
  {
   "cell_type": "code",
   "execution_count": null,
   "id": "17157e0d-c6d8-4adc-8f55-13238421736c",
   "metadata": {},
   "outputs": [],
   "source": []
  },
  {
   "cell_type": "code",
   "execution_count": null,
   "id": "67f966e5-ab6f-48bc-a849-d439e2610ecc",
   "metadata": {},
   "outputs": [],
   "source": []
  },
  {
   "cell_type": "code",
   "execution_count": null,
   "id": "5b8c8a4b-9ab8-49ef-af8f-fac088d1583f",
   "metadata": {},
   "outputs": [],
   "source": []
  },
  {
   "cell_type": "code",
   "execution_count": null,
   "id": "b0f4b81d-a458-4d6e-b42d-08b0e0529432",
   "metadata": {},
   "outputs": [],
   "source": []
  }
 ],
 "metadata": {
  "kernelspec": {
   "display_name": "Python 3 (ipykernel)",
   "language": "python",
   "name": "python3"
  },
  "language_info": {
   "codemirror_mode": {
    "name": "ipython",
    "version": 3
   },
   "file_extension": ".py",
   "mimetype": "text/x-python",
   "name": "python",
   "nbconvert_exporter": "python",
   "pygments_lexer": "ipython3",
   "version": "3.9.12"
  }
 },
 "nbformat": 4,
 "nbformat_minor": 5
}
