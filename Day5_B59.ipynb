{
 "cells": [
  {
   "cell_type": "code",
   "execution_count": null,
   "id": "2965ee77",
   "metadata": {},
   "outputs": [],
   "source": [
    "Organising the list data type : "
   ]
  },
  {
   "cell_type": "code",
   "execution_count": 1,
   "id": "6922aebc",
   "metadata": {},
   "outputs": [],
   "source": [
    "students = ['rajesh', 'naveed', 'vindhya', 'asna', 'laiba', 'radhika', 'nikhil']"
   ]
  },
  {
   "cell_type": "code",
   "execution_count": 2,
   "id": "cdcb8ca6",
   "metadata": {},
   "outputs": [
    {
     "name": "stdout",
     "output_type": "stream",
     "text": [
      "['rajesh', 'naveed', 'vindhya', 'asna', 'laiba', 'radhika', 'nikhil']\n"
     ]
    }
   ],
   "source": [
    "print(students)"
   ]
  },
  {
   "cell_type": "code",
   "execution_count": null,
   "id": "6683bd12",
   "metadata": {},
   "outputs": [],
   "source": []
  },
  {
   "cell_type": "code",
   "execution_count": null,
   "id": "5eb18cff",
   "metadata": {},
   "outputs": [],
   "source": [
    "# How to print naveed's name"
   ]
  },
  {
   "cell_type": "code",
   "execution_count": 3,
   "id": "1b7f661a",
   "metadata": {},
   "outputs": [
    {
     "name": "stdout",
     "output_type": "stream",
     "text": [
      "naveed\n"
     ]
    }
   ],
   "source": [
    "print(students[1])"
   ]
  },
  {
   "cell_type": "code",
   "execution_count": null,
   "id": "625f84e8",
   "metadata": {},
   "outputs": [],
   "source": [
    "# how to format in title format"
   ]
  },
  {
   "cell_type": "code",
   "execution_count": 4,
   "id": "cc95107d",
   "metadata": {},
   "outputs": [
    {
     "name": "stdout",
     "output_type": "stream",
     "text": [
      "Naveed\n"
     ]
    }
   ],
   "source": [
    "print(students[1].title())"
   ]
  },
  {
   "cell_type": "code",
   "execution_count": null,
   "id": "6c39b510",
   "metadata": {},
   "outputs": [],
   "source": []
  },
  {
   "cell_type": "code",
   "execution_count": 5,
   "id": "b278398d",
   "metadata": {},
   "outputs": [],
   "source": [
    "cars = ['kia', 'audi', 'ciaz','benz', 'suzuki','bmw']"
   ]
  },
  {
   "cell_type": "code",
   "execution_count": 7,
   "id": "91bd26e4",
   "metadata": {},
   "outputs": [
    {
     "name": "stdout",
     "output_type": "stream",
     "text": [
      "['kia', 'audi', 'ciaz', 'benz', 'suzuki', 'bmw']\n"
     ]
    }
   ],
   "source": [
    "print(cars)"
   ]
  },
  {
   "cell_type": "code",
   "execution_count": null,
   "id": "7dcac162",
   "metadata": {},
   "outputs": [],
   "source": []
  },
  {
   "cell_type": "code",
   "execution_count": null,
   "id": "b87ed487",
   "metadata": {},
   "outputs": [],
   "source": [
    "# How to arrange the above list in alphabetical order , asc : A-Z"
   ]
  },
  {
   "cell_type": "code",
   "execution_count": null,
   "id": "7b493086",
   "metadata": {},
   "outputs": [],
   "source": [
    "# approaches :\n",
    "\n",
    "temp approach ---> sorting ---> we can retain the original order\n",
    "permanent approach ----> sort ---> changes are applied permanently"
   ]
  },
  {
   "cell_type": "code",
   "execution_count": null,
   "id": "e03b8559",
   "metadata": {},
   "outputs": [],
   "source": [
    "Incorrect method"
   ]
  },
  {
   "cell_type": "code",
   "execution_count": 10,
   "id": "a0df7ef9",
   "metadata": {},
   "outputs": [
    {
     "ename": "NameError",
     "evalue": "name 'sorting' is not defined",
     "output_type": "error",
     "traceback": [
      "\u001b[0;31m---------------------------------------------------------------------------\u001b[0m",
      "\u001b[0;31mNameError\u001b[0m                                 Traceback (most recent call last)",
      "Input \u001b[0;32mIn [10]\u001b[0m, in \u001b[0;36m<cell line: 1>\u001b[0;34m()\u001b[0m\n\u001b[0;32m----> 1\u001b[0m \u001b[38;5;28mprint\u001b[39m(\u001b[43msorting\u001b[49m(cars))\n",
      "\u001b[0;31mNameError\u001b[0m: name 'sorting' is not defined"
     ]
    }
   ],
   "source": [
    "print(sorting(cars))"
   ]
  },
  {
   "cell_type": "code",
   "execution_count": null,
   "id": "bfd5ccc9",
   "metadata": {},
   "outputs": [],
   "source": [
    "Correct method"
   ]
  },
  {
   "cell_type": "code",
   "execution_count": 11,
   "id": "2699c547",
   "metadata": {},
   "outputs": [
    {
     "name": "stdout",
     "output_type": "stream",
     "text": [
      "['audi', 'benz', 'bmw', 'ciaz', 'kia', 'suzuki']\n"
     ]
    }
   ],
   "source": [
    "print(sorted(cars))"
   ]
  },
  {
   "cell_type": "code",
   "execution_count": null,
   "id": "44752736",
   "metadata": {},
   "outputs": [],
   "source": [
    "# how is benz and bmw getting validated ? "
   ]
  },
  {
   "cell_type": "code",
   "execution_count": null,
   "id": "5ed16215",
   "metadata": {},
   "outputs": [],
   "source": [
    "It will be evaluating the second letter if first one matches"
   ]
  },
  {
   "cell_type": "code",
   "execution_count": null,
   "id": "efb4d76f",
   "metadata": {},
   "outputs": [],
   "source": [
    "# to show that the original order is retained and is not affecting the original list"
   ]
  },
  {
   "cell_type": "code",
   "execution_count": null,
   "id": "1d91e6bc",
   "metadata": {},
   "outputs": [],
   "source": [
    "print(cars)"
   ]
  },
  {
   "cell_type": "code",
   "execution_count": null,
   "id": "81783a14",
   "metadata": {},
   "outputs": [],
   "source": []
  },
  {
   "cell_type": "code",
   "execution_count": null,
   "id": "5e5cb25b",
   "metadata": {},
   "outputs": [],
   "source": [
    "# permanent approach to sort"
   ]
  },
  {
   "cell_type": "code",
   "execution_count": 12,
   "id": "1abb09e5",
   "metadata": {},
   "outputs": [],
   "source": [
    "cars.sort()"
   ]
  },
  {
   "cell_type": "code",
   "execution_count": 13,
   "id": "b366e9a3",
   "metadata": {},
   "outputs": [
    {
     "name": "stdout",
     "output_type": "stream",
     "text": [
      "['audi', 'benz', 'bmw', 'ciaz', 'kia', 'suzuki']\n"
     ]
    }
   ],
   "source": [
    "print(cars)"
   ]
  },
  {
   "cell_type": "code",
   "execution_count": null,
   "id": "cad5497e",
   "metadata": {},
   "outputs": [],
   "source": [
    "# printing again to show order change is permanent"
   ]
  },
  {
   "cell_type": "code",
   "execution_count": 14,
   "id": "14b1a372",
   "metadata": {},
   "outputs": [
    {
     "name": "stdout",
     "output_type": "stream",
     "text": [
      "['audi', 'benz', 'bmw', 'ciaz', 'kia', 'suzuki']\n"
     ]
    }
   ],
   "source": [
    "print(cars)"
   ]
  },
  {
   "cell_type": "code",
   "execution_count": null,
   "id": "2fdcda93",
   "metadata": {},
   "outputs": [],
   "source": []
  },
  {
   "cell_type": "code",
   "execution_count": null,
   "id": "e3afebcd",
   "metadata": {},
   "outputs": [],
   "source": [
    "******Interview Question - what is the difference between sorted and sort method in a list ?********\n",
    "Sorted method sorts the list temporarily , the order of the list is not changed permanently \n",
    "sort method changes the order of the list permanently"
   ]
  },
  {
   "cell_type": "code",
   "execution_count": null,
   "id": "1c6146a9",
   "metadata": {},
   "outputs": [],
   "source": []
  },
  {
   "cell_type": "code",
   "execution_count": null,
   "id": "1d9db83a",
   "metadata": {},
   "outputs": [],
   "source": [
    "# How to print the list in the reverse order ?"
   ]
  },
  {
   "cell_type": "code",
   "execution_count": 15,
   "id": "549f9d47",
   "metadata": {},
   "outputs": [
    {
     "name": "stdout",
     "output_type": "stream",
     "text": [
      "['audi', 'benz', 'bmw', 'ciaz', 'kia', 'suzuki']\n"
     ]
    }
   ],
   "source": [
    "print(cars)"
   ]
  },
  {
   "cell_type": "code",
   "execution_count": null,
   "id": "50a96029",
   "metadata": {},
   "outputs": [],
   "source": [
    "reverse method to get the list in reverse order"
   ]
  },
  {
   "cell_type": "code",
   "execution_count": 16,
   "id": "cace76cb",
   "metadata": {},
   "outputs": [],
   "source": [
    "cars.reverse()"
   ]
  },
  {
   "cell_type": "code",
   "execution_count": 17,
   "id": "cf8963bb",
   "metadata": {},
   "outputs": [
    {
     "name": "stdout",
     "output_type": "stream",
     "text": [
      "['suzuki', 'kia', 'ciaz', 'bmw', 'benz', 'audi']\n"
     ]
    }
   ],
   "source": [
    "print(cars)"
   ]
  },
  {
   "cell_type": "code",
   "execution_count": null,
   "id": "ef381c9a",
   "metadata": {},
   "outputs": [],
   "source": [
    "list is displayed in the reverse order"
   ]
  },
  {
   "cell_type": "code",
   "execution_count": null,
   "id": "0e9a3f0f",
   "metadata": {},
   "outputs": [],
   "source": []
  },
  {
   "cell_type": "code",
   "execution_count": null,
   "id": "b679359a",
   "metadata": {},
   "outputs": [],
   "source": [
    "# how to count the number of elements present in the list ?"
   ]
  },
  {
   "cell_type": "code",
   "execution_count": 18,
   "id": "326d40c5",
   "metadata": {},
   "outputs": [
    {
     "data": {
      "text/plain": [
       "6"
      ]
     },
     "execution_count": 18,
     "metadata": {},
     "output_type": "execute_result"
    }
   ],
   "source": [
    "len(cars)"
   ]
  },
  {
   "cell_type": "code",
   "execution_count": null,
   "id": "b9477e21",
   "metadata": {},
   "outputs": [],
   "source": []
  },
  {
   "cell_type": "code",
   "execution_count": null,
   "id": "84bc5f80",
   "metadata": {},
   "outputs": [],
   "source": [
    "Slicing of the list data type"
   ]
  },
  {
   "cell_type": "code",
   "execution_count": 19,
   "id": "0e0cb335",
   "metadata": {},
   "outputs": [
    {
     "name": "stdout",
     "output_type": "stream",
     "text": [
      "['rajesh', 'naveed', 'vindhya', 'asna', 'laiba', 'radhika', 'nikhil']\n"
     ]
    }
   ],
   "source": [
    "print(students)"
   ]
  },
  {
   "cell_type": "code",
   "execution_count": null,
   "id": "537fa1fa",
   "metadata": {},
   "outputs": [],
   "source": []
  },
  {
   "cell_type": "code",
   "execution_count": null,
   "id": "e51b49cd",
   "metadata": {},
   "outputs": [],
   "source": [
    "# general syntax of slicing :"
   ]
  },
  {
   "cell_type": "code",
   "execution_count": null,
   "id": "d983ae19",
   "metadata": {},
   "outputs": [],
   "source": [
    "print(list[start value : stop value : step count])"
   ]
  },
  {
   "cell_type": "code",
   "execution_count": null,
   "id": "51e14714",
   "metadata": {},
   "outputs": [],
   "source": [
    "note : stop value is always exclusive -->  +1 to include the stop value "
   ]
  },
  {
   "cell_type": "code",
   "execution_count": null,
   "id": "fbd3bc33",
   "metadata": {},
   "outputs": [],
   "source": [
    "# How to include rajesh and naveed in a list ?"
   ]
  },
  {
   "cell_type": "code",
   "execution_count": 20,
   "id": "d80c56d9",
   "metadata": {},
   "outputs": [
    {
     "name": "stdout",
     "output_type": "stream",
     "text": [
      "['rajesh']\n"
     ]
    }
   ],
   "source": [
    "print(students[0:1])"
   ]
  },
  {
   "cell_type": "code",
   "execution_count": 21,
   "id": "8af077d8",
   "metadata": {},
   "outputs": [
    {
     "name": "stdout",
     "output_type": "stream",
     "text": [
      "['rajesh', 'naveed']\n"
     ]
    }
   ],
   "source": [
    "print(students[0:2])"
   ]
  },
  {
   "cell_type": "code",
   "execution_count": null,
   "id": "e4fdc695",
   "metadata": {},
   "outputs": [],
   "source": []
  },
  {
   "cell_type": "code",
   "execution_count": null,
   "id": "a982278f",
   "metadata": {},
   "outputs": [],
   "source": [
    "# Include vindhya and asna in a list"
   ]
  },
  {
   "cell_type": "code",
   "execution_count": 22,
   "id": "e2f25acb",
   "metadata": {},
   "outputs": [
    {
     "name": "stdout",
     "output_type": "stream",
     "text": [
      "['vindhya', 'asna']\n"
     ]
    }
   ],
   "source": [
    "print(students[2:4])"
   ]
  },
  {
   "cell_type": "code",
   "execution_count": 23,
   "id": "2b37201e",
   "metadata": {},
   "outputs": [
    {
     "name": "stdout",
     "output_type": "stream",
     "text": [
      "['laiba', 'radhika']\n"
     ]
    }
   ],
   "source": [
    "print(students[4:6])"
   ]
  },
  {
   "cell_type": "code",
   "execution_count": null,
   "id": "14a23a7f",
   "metadata": {},
   "outputs": [],
   "source": []
  },
  {
   "cell_type": "code",
   "execution_count": null,
   "id": "36c9117b",
   "metadata": {},
   "outputs": [],
   "source": [
    "# How to use step count"
   ]
  },
  {
   "cell_type": "code",
   "execution_count": 24,
   "id": "176f0f6f",
   "metadata": {},
   "outputs": [
    {
     "name": "stdout",
     "output_type": "stream",
     "text": [
      "['rajesh', 'vindhya', 'laiba', 'nikhil']\n"
     ]
    }
   ],
   "source": [
    "print(students[0:8:2])"
   ]
  },
  {
   "cell_type": "code",
   "execution_count": 25,
   "id": "4481db42",
   "metadata": {},
   "outputs": [
    {
     "name": "stdout",
     "output_type": "stream",
     "text": [
      "['rajesh', 'vindhya', 'laiba', 'nikhil']\n"
     ]
    }
   ],
   "source": [
    "print(students[0:8:2])"
   ]
  },
  {
   "cell_type": "code",
   "execution_count": null,
   "id": "8477ab8f",
   "metadata": {},
   "outputs": [],
   "source": []
  },
  {
   "cell_type": "code",
   "execution_count": 26,
   "id": "848e190f",
   "metadata": {},
   "outputs": [
    {
     "name": "stdout",
     "output_type": "stream",
     "text": [
      "['rajesh']\n"
     ]
    }
   ],
   "source": [
    "print(students[0:4:4])"
   ]
  },
  {
   "cell_type": "code",
   "execution_count": null,
   "id": "64422930",
   "metadata": {},
   "outputs": [],
   "source": []
  },
  {
   "cell_type": "code",
   "execution_count": 28,
   "id": "16f621fd",
   "metadata": {},
   "outputs": [
    {
     "name": "stdout",
     "output_type": "stream",
     "text": [
      "['rajesh', 'naveed', 'vindhya', 'asna', 'laiba', 'radhika', 'nikhil']\n"
     ]
    }
   ],
   "source": [
    "print(students)"
   ]
  },
  {
   "cell_type": "code",
   "execution_count": 27,
   "id": "1027cb41",
   "metadata": {},
   "outputs": [
    {
     "name": "stdout",
     "output_type": "stream",
     "text": [
      "['rajesh', 'asna', 'nikhil']\n"
     ]
    }
   ],
   "source": [
    "print(students[0:7:3])"
   ]
  },
  {
   "cell_type": "code",
   "execution_count": null,
   "id": "5c01514c",
   "metadata": {},
   "outputs": [],
   "source": []
  }
 ],
 "metadata": {
  "kernelspec": {
   "display_name": "Python 3 (ipykernel)",
   "language": "python",
   "name": "python3"
  },
  "language_info": {
   "codemirror_mode": {
    "name": "ipython",
    "version": 3
   },
   "file_extension": ".py",
   "mimetype": "text/x-python",
   "name": "python",
   "nbconvert_exporter": "python",
   "pygments_lexer": "ipython3",
   "version": "3.9.12"
  }
 },
 "nbformat": 4,
 "nbformat_minor": 5
}
