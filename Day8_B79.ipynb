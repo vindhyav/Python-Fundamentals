{
 "cells": [
  {
   "cell_type": "code",
   "execution_count": null,
   "id": "1bf03ccf",
   "metadata": {},
   "outputs": [],
   "source": [
    "Introduction to dictionaries"
   ]
  },
  {
   "cell_type": "code",
   "execution_count": null,
   "id": "dfc0eadf",
   "metadata": {},
   "outputs": [],
   "source": [
    "Def - combination of key value pairs \n",
    "Classification - it is calssified as a mutable data type \n",
    "how to define the dictionary ----> {}"
   ]
  },
  {
   "cell_type": "code",
   "execution_count": null,
   "id": "f1fe2adf",
   "metadata": {},
   "outputs": [],
   "source": []
  },
  {
   "cell_type": "code",
   "execution_count": null,
   "id": "0a99f9d7",
   "metadata": {},
   "outputs": [],
   "source": [
    "# Reqt - I have to create a alien game "
   ]
  },
  {
   "cell_type": "code",
   "execution_count": 1,
   "id": "bae4082a",
   "metadata": {},
   "outputs": [],
   "source": [
    "alien ={'color':'green','points':5}"
   ]
  },
  {
   "cell_type": "code",
   "execution_count": 2,
   "id": "d2805b7d",
   "metadata": {},
   "outputs": [
    {
     "name": "stdout",
     "output_type": "stream",
     "text": [
      "{'color': 'green', 'points': 5}\n"
     ]
    }
   ],
   "source": [
    "print(alien)"
   ]
  },
  {
   "cell_type": "code",
   "execution_count": null,
   "id": "81c93d51",
   "metadata": {},
   "outputs": [],
   "source": [
    "#how to access the key value pairs..!"
   ]
  },
  {
   "cell_type": "code",
   "execution_count": null,
   "id": "cf028b9d",
   "metadata": {},
   "outputs": [],
   "source": [
    "#how many points for killing an alien"
   ]
  },
  {
   "cell_type": "code",
   "execution_count": 3,
   "id": "83cc5af5",
   "metadata": {},
   "outputs": [
    {
     "name": "stdout",
     "output_type": "stream",
     "text": [
      "5\n"
     ]
    }
   ],
   "source": [
    "print(alien['points']) #key ---> o/p --value"
   ]
  },
  {
   "cell_type": "code",
   "execution_count": null,
   "id": "f140d8ad",
   "metadata": {},
   "outputs": [],
   "source": [
    "note : keys will be acting as an index values in the dictionary"
   ]
  },
  {
   "cell_type": "code",
   "execution_count": null,
   "id": "173e21fc",
   "metadata": {},
   "outputs": [],
   "source": [
    "give the key and get the value"
   ]
  },
  {
   "cell_type": "code",
   "execution_count": null,
   "id": "d754ddb4",
   "metadata": {},
   "outputs": [],
   "source": [
    "# can we give the value and get the key ?"
   ]
  },
  {
   "cell_type": "code",
   "execution_count": 4,
   "id": "a9cc27c1",
   "metadata": {},
   "outputs": [
    {
     "ename": "KeyError",
     "evalue": "'green'",
     "output_type": "error",
     "traceback": [
      "\u001b[0;31m---------------------------------------------------------------------------\u001b[0m",
      "\u001b[0;31mKeyError\u001b[0m                                  Traceback (most recent call last)",
      "Input \u001b[0;32mIn [4]\u001b[0m, in \u001b[0;36m<cell line: 1>\u001b[0;34m()\u001b[0m\n\u001b[0;32m----> 1\u001b[0m \u001b[38;5;28mprint\u001b[39m(\u001b[43malien\u001b[49m\u001b[43m[\u001b[49m\u001b[38;5;124;43m'\u001b[39;49m\u001b[38;5;124;43mgreen\u001b[39;49m\u001b[38;5;124;43m'\u001b[39;49m\u001b[43m]\u001b[49m)\n",
      "\u001b[0;31mKeyError\u001b[0m: 'green'"
     ]
    }
   ],
   "source": [
    "print(alien['green'])"
   ]
  },
  {
   "cell_type": "code",
   "execution_count": null,
   "id": "5767a52f",
   "metadata": {},
   "outputs": [],
   "source": []
  },
  {
   "cell_type": "code",
   "execution_count": null,
   "id": "830d8cd9",
   "metadata": {},
   "outputs": [],
   "source": [
    "# How to add new key value pairs to the dictionary "
   ]
  },
  {
   "cell_type": "code",
   "execution_count": null,
   "id": "44c37140",
   "metadata": {},
   "outputs": [],
   "source": [
    "# Reqt - I want to add level 1"
   ]
  },
  {
   "cell_type": "code",
   "execution_count": 5,
   "id": "abb8a3a0",
   "metadata": {},
   "outputs": [],
   "source": [
    "alien['level']=1"
   ]
  },
  {
   "cell_type": "code",
   "execution_count": 6,
   "id": "bdae9848",
   "metadata": {},
   "outputs": [
    {
     "name": "stdout",
     "output_type": "stream",
     "text": [
      "{'color': 'green', 'points': 5, 'level': 1}\n"
     ]
    }
   ],
   "source": [
    "print(alien)"
   ]
  },
  {
   "cell_type": "code",
   "execution_count": null,
   "id": "dcf12b51",
   "metadata": {},
   "outputs": [],
   "source": []
  },
  {
   "cell_type": "code",
   "execution_count": null,
   "id": "2a2dfcc6",
   "metadata": {},
   "outputs": [],
   "source": [
    "# Reqt - I want to modify the color to yellow "
   ]
  },
  {
   "cell_type": "code",
   "execution_count": 7,
   "id": "948f4ae2",
   "metadata": {},
   "outputs": [],
   "source": [
    "alien['color']='yellow'"
   ]
  },
  {
   "cell_type": "code",
   "execution_count": 8,
   "id": "9797807f",
   "metadata": {},
   "outputs": [
    {
     "name": "stdout",
     "output_type": "stream",
     "text": [
      "{'color': 'yellow', 'points': 5, 'level': 1}\n"
     ]
    }
   ],
   "source": [
    "print(alien)"
   ]
  },
  {
   "cell_type": "code",
   "execution_count": null,
   "id": "05cd0731",
   "metadata": {},
   "outputs": [],
   "source": []
  },
  {
   "cell_type": "code",
   "execution_count": null,
   "id": "aa3b11fa",
   "metadata": {},
   "outputs": [],
   "source": [
    "# How to delete the key value pairs from the dictionary "
   ]
  },
  {
   "cell_type": "code",
   "execution_count": null,
   "id": "3f625b64",
   "metadata": {},
   "outputs": [],
   "source": [
    "# Reqt - I want to delete points from the dictionary alien"
   ]
  },
  {
   "cell_type": "code",
   "execution_count": 9,
   "id": "04526a1d",
   "metadata": {},
   "outputs": [],
   "source": [
    "del alien['points']"
   ]
  },
  {
   "cell_type": "code",
   "execution_count": 10,
   "id": "1b5aed9c",
   "metadata": {},
   "outputs": [
    {
     "name": "stdout",
     "output_type": "stream",
     "text": [
      "{'color': 'yellow', 'level': 1}\n"
     ]
    }
   ],
   "source": [
    "print(alien)"
   ]
  },
  {
   "cell_type": "code",
   "execution_count": null,
   "id": "7e0a1e99",
   "metadata": {},
   "outputs": [],
   "source": []
  },
  {
   "cell_type": "code",
   "execution_count": null,
   "id": "73aaf80d",
   "metadata": {},
   "outputs": [],
   "source": [
    "Implementation of for loop in a dictionary "
   ]
  },
  {
   "cell_type": "code",
   "execution_count": null,
   "id": "e10f9191",
   "metadata": {},
   "outputs": [],
   "source": [
    "#general syntax:\n",
    "for tempvar1, tempvar2 in mainvar.items():\n",
    "    print(tempvar1)\n",
    "    print(tempvar2)"
   ]
  },
  {
   "cell_type": "code",
   "execution_count": 11,
   "id": "bfba1e4f",
   "metadata": {},
   "outputs": [
    {
     "name": "stdout",
     "output_type": "stream",
     "text": [
      "color\n",
      "yellow\n",
      "level\n",
      "1\n"
     ]
    }
   ],
   "source": [
    "for k,v in alien.items():\n",
    "    print(k)\n",
    "    print(v)"
   ]
  },
  {
   "cell_type": "code",
   "execution_count": null,
   "id": "674abb60",
   "metadata": {},
   "outputs": [],
   "source": []
  },
  {
   "cell_type": "code",
   "execution_count": null,
   "id": "c6caeb5e",
   "metadata": {},
   "outputs": [],
   "source": [
    "# Reqt - create a user account in facebook "
   ]
  },
  {
   "cell_type": "code",
   "execution_count": 12,
   "id": "c243193f",
   "metadata": {},
   "outputs": [],
   "source": [
    "user_name ={'first_name':'code', 'last_name':'training','password':'54321','dob':'01-01-2020'}"
   ]
  },
  {
   "cell_type": "code",
   "execution_count": 13,
   "id": "c4ff4ccd",
   "metadata": {},
   "outputs": [
    {
     "name": "stdout",
     "output_type": "stream",
     "text": [
      "{'first_name': 'code', 'last_name': 'training', 'password': '54321', 'dob': '01-01-2020'}\n"
     ]
    }
   ],
   "source": [
    "print(user_name)"
   ]
  },
  {
   "cell_type": "code",
   "execution_count": null,
   "id": "5358d138",
   "metadata": {},
   "outputs": [],
   "source": [
    "# add location as well as arch cafe"
   ]
  },
  {
   "cell_type": "code",
   "execution_count": 14,
   "id": "cb128490",
   "metadata": {},
   "outputs": [],
   "source": [
    "user_name['location']='arch cafe'"
   ]
  },
  {
   "cell_type": "code",
   "execution_count": 15,
   "id": "8af24d67",
   "metadata": {},
   "outputs": [
    {
     "name": "stdout",
     "output_type": "stream",
     "text": [
      "{'first_name': 'code', 'last_name': 'training', 'password': '54321', 'dob': '01-01-2020', 'location': 'arch cafe'}\n"
     ]
    }
   ],
   "source": [
    "print(user_name)"
   ]
  },
  {
   "cell_type": "code",
   "execution_count": null,
   "id": "3f258d59",
   "metadata": {},
   "outputs": [],
   "source": []
  }
 ],
 "metadata": {
  "kernelspec": {
   "display_name": "Python 3 (ipykernel)",
   "language": "python",
   "name": "python3"
  },
  "language_info": {
   "codemirror_mode": {
    "name": "ipython",
    "version": 3
   },
   "file_extension": ".py",
   "mimetype": "text/x-python",
   "name": "python",
   "nbconvert_exporter": "python",
   "pygments_lexer": "ipython3",
   "version": "3.9.12"
  }
 },
 "nbformat": 4,
 "nbformat_minor": 5
}
