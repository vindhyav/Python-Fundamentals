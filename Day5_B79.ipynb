{
 "cells": [
  {
   "cell_type": "code",
   "execution_count": null,
   "id": "87eb0235",
   "metadata": {},
   "outputs": [],
   "source": [
    "# Continuation of list data types:"
   ]
  },
  {
   "cell_type": "code",
   "execution_count": null,
   "id": "a78eb0b2",
   "metadata": {},
   "outputs": [],
   "source": []
  },
  {
   "cell_type": "code",
   "execution_count": null,
   "id": "53486ebe",
   "metadata": {},
   "outputs": [],
   "source": [
    "# Organising the list data type"
   ]
  },
  {
   "cell_type": "code",
   "execution_count": null,
   "id": "158aa36a",
   "metadata": {},
   "outputs": [],
   "source": []
  },
  {
   "cell_type": "code",
   "execution_count": 1,
   "id": "ddcb394a",
   "metadata": {},
   "outputs": [
    {
     "name": "stdout",
     "output_type": "stream",
     "text": [
      "['suzuki', 'maruthi', 'honda', 'kia', 'bmw', 'toyota', 'audi', 'benz']\n"
     ]
    }
   ],
   "source": [
    "cars = ['suzuki', 'maruthi', 'honda', 'kia', 'bmw', 'toyota', 'audi', 'benz']\n",
    "print(cars)"
   ]
  },
  {
   "cell_type": "code",
   "execution_count": 2,
   "id": "46596c9f",
   "metadata": {},
   "outputs": [
    {
     "data": {
      "text/plain": [
       "list"
      ]
     },
     "execution_count": 2,
     "metadata": {},
     "output_type": "execute_result"
    }
   ],
   "source": [
    "type(cars)"
   ]
  },
  {
   "cell_type": "code",
   "execution_count": null,
   "id": "d55e30ef",
   "metadata": {},
   "outputs": [],
   "source": []
  },
  {
   "cell_type": "code",
   "execution_count": null,
   "id": "9561201a",
   "metadata": {},
   "outputs": [],
   "source": [
    "# Reqt - I want to organize the list in an alphabetical order A-Z"
   ]
  },
  {
   "cell_type": "code",
   "execution_count": null,
   "id": "d454befa",
   "metadata": {},
   "outputs": [],
   "source": [
    "1. Temporary approach ==> sorted ==> we will be able to get the original order back\n",
    "2. Permanent approach ==> sort ==> all the changes are implied permanently \n"
   ]
  },
  {
   "cell_type": "code",
   "execution_count": 3,
   "id": "34bb647a",
   "metadata": {},
   "outputs": [
    {
     "name": "stdout",
     "output_type": "stream",
     "text": [
      "['audi', 'benz', 'bmw', 'honda', 'kia', 'maruthi', 'suzuki', 'toyota']\n"
     ]
    }
   ],
   "source": [
    "print(sorted(cars))"
   ]
  },
  {
   "cell_type": "code",
   "execution_count": null,
   "id": "f2a78dc4",
   "metadata": {},
   "outputs": [],
   "source": [
    "# *** interview question - when we have both the first letter same , \n",
    "# python will immediately evaluate the second letter , \n",
    "# ie why in the above example benz is coming first "
   ]
  },
  {
   "cell_type": "code",
   "execution_count": 4,
   "id": "36c7323f",
   "metadata": {},
   "outputs": [
    {
     "name": "stdout",
     "output_type": "stream",
     "text": [
      "['suzuki', 'maruthi', 'honda', 'kia', 'bmw', 'toyota', 'audi', 'benz']\n"
     ]
    }
   ],
   "source": [
    "print(cars) #this is the original order"
   ]
  },
  {
   "cell_type": "code",
   "execution_count": null,
   "id": "cdf13b8a",
   "metadata": {},
   "outputs": [],
   "source": []
  },
  {
   "cell_type": "code",
   "execution_count": 6,
   "id": "a5278ca9",
   "metadata": {},
   "outputs": [],
   "source": [
    "cars.sort()"
   ]
  },
  {
   "cell_type": "code",
   "execution_count": 7,
   "id": "468d134d",
   "metadata": {},
   "outputs": [
    {
     "name": "stdout",
     "output_type": "stream",
     "text": [
      "['audi', 'benz', 'bmw', 'honda', 'kia', 'maruthi', 'suzuki', 'toyota']\n"
     ]
    }
   ],
   "source": [
    "print(cars)"
   ]
  },
  {
   "cell_type": "code",
   "execution_count": null,
   "id": "6283e8eb",
   "metadata": {},
   "outputs": [],
   "source": []
  },
  {
   "cell_type": "code",
   "execution_count": null,
   "id": "67e451d3",
   "metadata": {},
   "outputs": [],
   "source": [
    "# *** Interview question - difference between sorted and sort method in lists "
   ]
  },
  {
   "cell_type": "code",
   "execution_count": null,
   "id": "1eb42b45",
   "metadata": {},
   "outputs": [],
   "source": []
  },
  {
   "cell_type": "code",
   "execution_count": null,
   "id": "bcf682a5",
   "metadata": {},
   "outputs": [],
   "source": [
    "# # is used for commenting lines..."
   ]
  },
  {
   "cell_type": "code",
   "execution_count": null,
   "id": "24068af3",
   "metadata": {},
   "outputs": [],
   "source": []
  },
  {
   "cell_type": "code",
   "execution_count": null,
   "id": "33fbd91a",
   "metadata": {},
   "outputs": [],
   "source": [
    "# Reqt : I want to print the list in reverse order "
   ]
  },
  {
   "cell_type": "code",
   "execution_count": null,
   "id": "cde23dd5",
   "metadata": {},
   "outputs": [],
   "source": []
  },
  {
   "cell_type": "code",
   "execution_count": 8,
   "id": "9191f855",
   "metadata": {},
   "outputs": [
    {
     "name": "stdout",
     "output_type": "stream",
     "text": [
      "['audi', 'benz', 'bmw', 'honda', 'kia', 'maruthi', 'suzuki', 'toyota']\n"
     ]
    }
   ],
   "source": [
    "print(cars) # a - z"
   ]
  },
  {
   "cell_type": "code",
   "execution_count": null,
   "id": "e5821cbd",
   "metadata": {},
   "outputs": [],
   "source": [
    "# print in reverse"
   ]
  },
  {
   "cell_type": "code",
   "execution_count": 9,
   "id": "7312ac9b",
   "metadata": {},
   "outputs": [],
   "source": [
    "cars.reverse()"
   ]
  },
  {
   "cell_type": "code",
   "execution_count": 10,
   "id": "eb95c40a",
   "metadata": {},
   "outputs": [
    {
     "name": "stdout",
     "output_type": "stream",
     "text": [
      "['toyota', 'suzuki', 'maruthi', 'kia', 'honda', 'bmw', 'benz', 'audi']\n"
     ]
    }
   ],
   "source": [
    "print(cars)"
   ]
  },
  {
   "cell_type": "code",
   "execution_count": null,
   "id": "f29d65e0",
   "metadata": {},
   "outputs": [],
   "source": []
  },
  {
   "cell_type": "code",
   "execution_count": null,
   "id": "9091e50d",
   "metadata": {},
   "outputs": [],
   "source": [
    "# Reqt - I want to calculate the number of items in the list"
   ]
  },
  {
   "cell_type": "code",
   "execution_count": 11,
   "id": "d58a9ed5",
   "metadata": {},
   "outputs": [
    {
     "data": {
      "text/plain": [
       "8"
      ]
     },
     "execution_count": 11,
     "metadata": {},
     "output_type": "execute_result"
    }
   ],
   "source": [
    "len(cars)"
   ]
  },
  {
   "cell_type": "code",
   "execution_count": null,
   "id": "a98beeb7",
   "metadata": {},
   "outputs": [],
   "source": []
  },
  {
   "cell_type": "code",
   "execution_count": null,
   "id": "215a7338",
   "metadata": {},
   "outputs": [],
   "source": [
    "# Introduction to slicing"
   ]
  },
  {
   "cell_type": "code",
   "execution_count": null,
   "id": "b60ac4d9",
   "metadata": {},
   "outputs": [],
   "source": [
    "# General syntax of slicing "
   ]
  },
  {
   "cell_type": "code",
   "execution_count": null,
   "id": "61770171",
   "metadata": {},
   "outputs": [],
   "source": [
    "[startvalue:stopvalue:stepcount]"
   ]
  },
  {
   "cell_type": "code",
   "execution_count": null,
   "id": "f853b01e",
   "metadata": {},
   "outputs": [],
   "source": [
    "Note : stop value is always exclusive , to include the stop value we have to increment the number by +1"
   ]
  },
  {
   "cell_type": "code",
   "execution_count": null,
   "id": "ce710b3a",
   "metadata": {},
   "outputs": [],
   "source": []
  },
  {
   "cell_type": "code",
   "execution_count": 13,
   "id": "605a75c8",
   "metadata": {},
   "outputs": [],
   "source": [
    "students = ['aditi', 'sara', 'monica', 'ramya', 'naveen', 'adil', 'kiran', 'david']"
   ]
  },
  {
   "cell_type": "code",
   "execution_count": 14,
   "id": "6add2ab2",
   "metadata": {},
   "outputs": [
    {
     "name": "stdout",
     "output_type": "stream",
     "text": [
      "['aditi', 'sara', 'monica', 'ramya', 'naveen', 'adil', 'kiran', 'david']\n"
     ]
    }
   ],
   "source": [
    "print(students)"
   ]
  },
  {
   "cell_type": "code",
   "execution_count": 16,
   "id": "130961ff",
   "metadata": {},
   "outputs": [
    {
     "name": "stdout",
     "output_type": "stream",
     "text": [
      "['aditi']\n"
     ]
    }
   ],
   "source": [
    "print(students[0:1])"
   ]
  },
  {
   "cell_type": "code",
   "execution_count": 17,
   "id": "411e5c17",
   "metadata": {},
   "outputs": [
    {
     "name": "stdout",
     "output_type": "stream",
     "text": [
      "['aditi', 'sara']\n"
     ]
    }
   ],
   "source": [
    "print(students[0:2])"
   ]
  },
  {
   "cell_type": "code",
   "execution_count": null,
   "id": "3a587650",
   "metadata": {},
   "outputs": [],
   "source": [
    "# Reqt - include monica and ramya also in the output"
   ]
  },
  {
   "cell_type": "code",
   "execution_count": 18,
   "id": "89eddd7b",
   "metadata": {},
   "outputs": [
    {
     "name": "stdout",
     "output_type": "stream",
     "text": [
      "['aditi', 'sara', 'monica', 'ramya']\n"
     ]
    }
   ],
   "source": [
    "print(students[0:4])"
   ]
  },
  {
   "cell_type": "code",
   "execution_count": 19,
   "id": "b73ea36b",
   "metadata": {},
   "outputs": [
    {
     "name": "stdout",
     "output_type": "stream",
     "text": [
      "['monica', 'ramya']\n"
     ]
    }
   ],
   "source": [
    "print(students[2:4])"
   ]
  },
  {
   "cell_type": "code",
   "execution_count": null,
   "id": "ccc6cfe1",
   "metadata": {},
   "outputs": [],
   "source": []
  },
  {
   "cell_type": "code",
   "execution_count": 20,
   "id": "3a0c9684",
   "metadata": {},
   "outputs": [
    {
     "name": "stdout",
     "output_type": "stream",
     "text": [
      "['aditi', 'monica', 'naveen', 'kiran']\n"
     ]
    }
   ],
   "source": [
    "print(students[0:8:2])"
   ]
  },
  {
   "cell_type": "code",
   "execution_count": null,
   "id": "4119c1e2",
   "metadata": {},
   "outputs": [],
   "source": []
  },
  {
   "cell_type": "code",
   "execution_count": 21,
   "id": "14675089",
   "metadata": {},
   "outputs": [
    {
     "name": "stdout",
     "output_type": "stream",
     "text": [
      "['aditi', 'ramya', 'kiran']\n"
     ]
    }
   ],
   "source": [
    "print(students[0:8:3])"
   ]
  },
  {
   "cell_type": "code",
   "execution_count": 22,
   "id": "17fce663",
   "metadata": {},
   "outputs": [
    {
     "name": "stdout",
     "output_type": "stream",
     "text": [
      "['aditi', 'naveen']\n"
     ]
    }
   ],
   "source": [
    "print(students[0:8:4])"
   ]
  },
  {
   "cell_type": "code",
   "execution_count": null,
   "id": "c3da2bff",
   "metadata": {},
   "outputs": [],
   "source": []
  },
  {
   "cell_type": "code",
   "execution_count": null,
   "id": "f16afbd5",
   "metadata": {},
   "outputs": [],
   "source": [
    "# Introduction to the concept of negative indexing , -1, -2"
   ]
  },
  {
   "cell_type": "code",
   "execution_count": 23,
   "id": "6910c8cf",
   "metadata": {},
   "outputs": [
    {
     "name": "stdout",
     "output_type": "stream",
     "text": [
      "['aditi', 'sara', 'monica', 'ramya', 'naveen', 'adil', 'kiran', 'david']\n"
     ]
    }
   ],
   "source": [
    "print(students)"
   ]
  },
  {
   "cell_type": "code",
   "execution_count": 24,
   "id": "64f04ac4",
   "metadata": {},
   "outputs": [
    {
     "name": "stdout",
     "output_type": "stream",
     "text": [
      "david\n"
     ]
    }
   ],
   "source": [
    "print(students[-1])"
   ]
  },
  {
   "cell_type": "code",
   "execution_count": null,
   "id": "f0030d9a",
   "metadata": {},
   "outputs": [],
   "source": []
  },
  {
   "cell_type": "code",
   "execution_count": null,
   "id": "3cf09e2b",
   "metadata": {},
   "outputs": [],
   "source": [
    "#### ***Interview question - concept of postive and negative indexing"
   ]
  },
  {
   "cell_type": "code",
   "execution_count": null,
   "id": "8ed3d649",
   "metadata": {},
   "outputs": [],
   "source": []
  },
  {
   "cell_type": "code",
   "execution_count": null,
   "id": "6784e1de",
   "metadata": {},
   "outputs": [],
   "source": []
  },
  {
   "cell_type": "code",
   "execution_count": null,
   "id": "9bcb7463",
   "metadata": {},
   "outputs": [],
   "source": []
  },
  {
   "cell_type": "code",
   "execution_count": null,
   "id": "31e24c25",
   "metadata": {},
   "outputs": [],
   "source": []
  },
  {
   "cell_type": "code",
   "execution_count": null,
   "id": "bf14712c",
   "metadata": {},
   "outputs": [],
   "source": []
  }
 ],
 "metadata": {
  "kernelspec": {
   "display_name": "Python 3 (ipykernel)",
   "language": "python",
   "name": "python3"
  },
  "language_info": {
   "codemirror_mode": {
    "name": "ipython",
    "version": 3
   },
   "file_extension": ".py",
   "mimetype": "text/x-python",
   "name": "python",
   "nbconvert_exporter": "python",
   "pygments_lexer": "ipython3",
   "version": "3.9.12"
  }
 },
 "nbformat": 4,
 "nbformat_minor": 5
}
