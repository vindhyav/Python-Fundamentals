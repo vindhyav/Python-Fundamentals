{
 "cells": [
  {
   "cell_type": "code",
   "execution_count": null,
   "id": "e59ae6b3",
   "metadata": {},
   "outputs": [],
   "source": [
    "Intro to list data types"
   ]
  },
  {
   "cell_type": "code",
   "execution_count": null,
   "id": "b9b8ea89",
   "metadata": {},
   "outputs": [],
   "source": [
    "Definition - A list is a collection of items declared in a particular order \n",
    "classification - it is classified as a mutable data type\n",
    "how to define the list ??"
   ]
  },
  {
   "cell_type": "code",
   "execution_count": null,
   "id": "f8cf8c21",
   "metadata": {},
   "outputs": [],
   "source": []
  },
  {
   "cell_type": "code",
   "execution_count": 2,
   "id": "b866b2f1",
   "metadata": {},
   "outputs": [
    {
     "name": "stdout",
     "output_type": "stream",
     "text": [
      "['vinoth', 'ramya', 'ayesha', 'sara', 'david', 'naveen', 'ahmed']\n"
     ]
    }
   ],
   "source": [
    "students = ['vinoth', 'ramya', 'ayesha', 'sara' , 'david', 'naveen', 'ahmed']\n",
    "print(students)"
   ]
  },
  {
   "cell_type": "code",
   "execution_count": 3,
   "id": "dac4002b",
   "metadata": {},
   "outputs": [
    {
     "data": {
      "text/plain": [
       "list"
      ]
     },
     "execution_count": 3,
     "metadata": {},
     "output_type": "execute_result"
    }
   ],
   "source": [
    "type(students)"
   ]
  },
  {
   "cell_type": "code",
   "execution_count": null,
   "id": "568dd9d3",
   "metadata": {},
   "outputs": [],
   "source": []
  },
  {
   "cell_type": "code",
   "execution_count": null,
   "id": "3cce4e04",
   "metadata": {},
   "outputs": [],
   "source": [
    "Introduction to indexing \n",
    "Indexing will be starting from 0, 1, 2 ..... and so on "
   ]
  },
  {
   "cell_type": "code",
   "execution_count": 4,
   "id": "b1d6b9df",
   "metadata": {},
   "outputs": [
    {
     "name": "stdout",
     "output_type": "stream",
     "text": [
      "ramya\n"
     ]
    }
   ],
   "source": [
    "# Reqt: I want to access ramya's name on the output"
   ]
  },
  {
   "cell_type": "code",
   "execution_count": 5,
   "id": "776d0e8b",
   "metadata": {},
   "outputs": [
    {
     "name": "stdout",
     "output_type": "stream",
     "text": [
      "ramya\n"
     ]
    }
   ],
   "source": [
    "print(students[1])"
   ]
  },
  {
   "cell_type": "code",
   "execution_count": null,
   "id": "740f10e4",
   "metadata": {},
   "outputs": [],
   "source": []
  },
  {
   "cell_type": "code",
   "execution_count": null,
   "id": "5efb0f57",
   "metadata": {},
   "outputs": [],
   "source": [
    "# Reqt: Print ramya in sentence case , with r in caps as Ramya"
   ]
  },
  {
   "cell_type": "code",
   "execution_count": 6,
   "id": "aa6f6904",
   "metadata": {},
   "outputs": [
    {
     "name": "stdout",
     "output_type": "stream",
     "text": [
      "Ramya\n"
     ]
    }
   ],
   "source": [
    "print(students[1].title())"
   ]
  },
  {
   "cell_type": "code",
   "execution_count": null,
   "id": "11636b69",
   "metadata": {},
   "outputs": [],
   "source": []
  },
  {
   "cell_type": "code",
   "execution_count": null,
   "id": "03219188",
   "metadata": {},
   "outputs": [],
   "source": [
    "# Reqt: I want to print sara's name as Sara"
   ]
  },
  {
   "cell_type": "code",
   "execution_count": 7,
   "id": "d626ac2b",
   "metadata": {},
   "outputs": [
    {
     "name": "stdout",
     "output_type": "stream",
     "text": [
      "Sara\n"
     ]
    }
   ],
   "source": [
    "print(students[3].title())"
   ]
  },
  {
   "cell_type": "code",
   "execution_count": null,
   "id": "9c63ce7b",
   "metadata": {},
   "outputs": [],
   "source": []
  },
  {
   "cell_type": "code",
   "execution_count": 8,
   "id": "26aa168b",
   "metadata": {},
   "outputs": [
    {
     "name": "stdout",
     "output_type": "stream",
     "text": [
      "['vinoth', 'ramya', 'ayesha', 'sara', 'david', 'naveen', 'ahmed']\n"
     ]
    }
   ],
   "source": [
    "print(students)"
   ]
  },
  {
   "cell_type": "code",
   "execution_count": null,
   "id": "b2881864",
   "metadata": {},
   "outputs": [],
   "source": [
    "# Reqt: I want to add kunal in the above list "
   ]
  },
  {
   "cell_type": "code",
   "execution_count": 9,
   "id": "07c6a81c",
   "metadata": {},
   "outputs": [],
   "source": [
    "students.append('kunal')"
   ]
  },
  {
   "cell_type": "code",
   "execution_count": 10,
   "id": "97f55cff",
   "metadata": {},
   "outputs": [
    {
     "name": "stdout",
     "output_type": "stream",
     "text": [
      "['vinoth', 'ramya', 'ayesha', 'sara', 'david', 'naveen', 'ahmed', 'kunal']\n"
     ]
    }
   ],
   "source": [
    "print(students)"
   ]
  },
  {
   "cell_type": "code",
   "execution_count": null,
   "id": "0070a292",
   "metadata": {},
   "outputs": [],
   "source": [
    "# Reqt: I want to add another name kalyani in the above list "
   ]
  },
  {
   "cell_type": "code",
   "execution_count": 16,
   "id": "c27e61c3",
   "metadata": {},
   "outputs": [],
   "source": [
    "students.append('kalyani')"
   ]
  },
  {
   "cell_type": "code",
   "execution_count": 19,
   "id": "3913ade3",
   "metadata": {},
   "outputs": [
    {
     "name": "stdout",
     "output_type": "stream",
     "text": [
      "['vinoth', 'ramya', 'ayesha', 'sara', 'david', 'naveen', 'ahmed', 'kunal', 'kalyani']\n"
     ]
    }
   ],
   "source": [
    "print(students)"
   ]
  },
  {
   "cell_type": "code",
   "execution_count": null,
   "id": "64c710fe",
   "metadata": {},
   "outputs": [],
   "source": []
  },
  {
   "cell_type": "code",
   "execution_count": 18,
   "id": "d56415bf",
   "metadata": {},
   "outputs": [],
   "source": [
    "# Reqt: I want to add firdous to the 2nd index position "
   ]
  },
  {
   "cell_type": "code",
   "execution_count": 20,
   "id": "edeec5bf",
   "metadata": {},
   "outputs": [],
   "source": [
    "students.insert(2,'firdous')"
   ]
  },
  {
   "cell_type": "code",
   "execution_count": 21,
   "id": "2ad6a6a8",
   "metadata": {},
   "outputs": [
    {
     "name": "stdout",
     "output_type": "stream",
     "text": [
      "['vinoth', 'ramya', 'firdous', 'ayesha', 'sara', 'david', 'naveen', 'ahmed', 'kunal', 'kalyani']\n"
     ]
    }
   ],
   "source": [
    "print(students)"
   ]
  },
  {
   "cell_type": "code",
   "execution_count": 23,
   "id": "9e905b9d",
   "metadata": {},
   "outputs": [
    {
     "name": "stdout",
     "output_type": "stream",
     "text": [
      "Firdous\n"
     ]
    }
   ],
   "source": [
    "print(students[2].title())"
   ]
  },
  {
   "cell_type": "code",
   "execution_count": null,
   "id": "0f637301",
   "metadata": {},
   "outputs": [],
   "source": []
  },
  {
   "cell_type": "code",
   "execution_count": null,
   "id": "fc9d3267",
   "metadata": {},
   "outputs": [],
   "source": [
    "*** Interview question - can you please explain what is the difference between append and insert method in a list \n",
    "Appends adds entries to the end/last of the list where as insert lets you to add items to the desired index position in a list"
   ]
  },
  {
   "cell_type": "code",
   "execution_count": null,
   "id": "9ca57d84",
   "metadata": {},
   "outputs": [],
   "source": []
  },
  {
   "cell_type": "code",
   "execution_count": null,
   "id": "75f0f574",
   "metadata": {},
   "outputs": [],
   "source": []
  },
  {
   "cell_type": "code",
   "execution_count": null,
   "id": "49732899",
   "metadata": {},
   "outputs": [],
   "source": [
    "1. How to add elements to the list\n",
    "2. How to edit/alter the elements in the list \n",
    "3. How to delete the elements in the list "
   ]
  },
  {
   "cell_type": "code",
   "execution_count": null,
   "id": "caed6bba",
   "metadata": {},
   "outputs": [],
   "source": []
  },
  {
   "cell_type": "code",
   "execution_count": 25,
   "id": "253c4c85",
   "metadata": {},
   "outputs": [
    {
     "name": "stdout",
     "output_type": "stream",
     "text": [
      "['vinoth', 'ramya', 'firdous', 'ayesha', 'sara', 'david', 'naveen', 'ahmed', 'kunal', 'kalyani']\n"
     ]
    }
   ],
   "source": [
    "print(students)"
   ]
  },
  {
   "cell_type": "code",
   "execution_count": null,
   "id": "9c89370b",
   "metadata": {},
   "outputs": [],
   "source": []
  },
  {
   "cell_type": "code",
   "execution_count": null,
   "id": "16655322",
   "metadata": {},
   "outputs": [],
   "source": [
    "# Reqt - I want to change the name from vinoth to vani in the list"
   ]
  },
  {
   "cell_type": "code",
   "execution_count": 27,
   "id": "e41f2ffd",
   "metadata": {},
   "outputs": [],
   "source": [
    "students[0] = 'vani'"
   ]
  },
  {
   "cell_type": "code",
   "execution_count": 28,
   "id": "1c8e5279",
   "metadata": {},
   "outputs": [
    {
     "name": "stdout",
     "output_type": "stream",
     "text": [
      "['vani', 'ramya', 'firdous', 'ayesha', 'sara', 'david', 'naveen', 'ahmed', 'kunal', 'kalyani']\n"
     ]
    }
   ],
   "source": [
    "print(students)"
   ]
  },
  {
   "cell_type": "code",
   "execution_count": null,
   "id": "94931e7d",
   "metadata": {},
   "outputs": [],
   "source": []
  },
  {
   "cell_type": "code",
   "execution_count": 29,
   "id": "c438ef74",
   "metadata": {},
   "outputs": [
    {
     "name": "stdout",
     "output_type": "stream",
     "text": [
      "['vani', 'ramya', 'firdous', 'ayesha', 'sara', 'david', 'naveen', 'ahmed', 'kunal', 'kalyani']\n"
     ]
    }
   ],
   "source": [
    "print(students)"
   ]
  },
  {
   "cell_type": "code",
   "execution_count": null,
   "id": "c549de0a",
   "metadata": {},
   "outputs": [],
   "source": [
    "Deleting\n",
    "1. Temporary deleting   ==> pop() ==> \n",
    "It will be creating a carbon copy of the deleted items and storing the values that has been assigned to it.\n",
    "Note - By default it will be deleting the last element from the list \n",
    "\n",
    "2. Permanent deleting   ==> del method"
   ]
  },
  {
   "cell_type": "code",
   "execution_count": 30,
   "id": "8d28bf38",
   "metadata": {},
   "outputs": [],
   "source": [
    "x = students.pop()"
   ]
  },
  {
   "cell_type": "code",
   "execution_count": 31,
   "id": "a2b7110b",
   "metadata": {},
   "outputs": [
    {
     "name": "stdout",
     "output_type": "stream",
     "text": [
      "['vani', 'ramya', 'firdous', 'ayesha', 'sara', 'david', 'naveen', 'ahmed', 'kunal']\n"
     ]
    }
   ],
   "source": [
    "print(students)"
   ]
  },
  {
   "cell_type": "code",
   "execution_count": 32,
   "id": "a4b95315",
   "metadata": {},
   "outputs": [
    {
     "name": "stdout",
     "output_type": "stream",
     "text": [
      "kalyani\n"
     ]
    }
   ],
   "source": [
    "print(x)"
   ]
  },
  {
   "cell_type": "code",
   "execution_count": null,
   "id": "4a437443",
   "metadata": {},
   "outputs": [],
   "source": [
    "# Reqt - I want to delete ramya"
   ]
  },
  {
   "cell_type": "code",
   "execution_count": 33,
   "id": "3a40d603",
   "metadata": {},
   "outputs": [],
   "source": [
    "y = students.pop(1)"
   ]
  },
  {
   "cell_type": "code",
   "execution_count": 34,
   "id": "0c041ac4",
   "metadata": {},
   "outputs": [
    {
     "name": "stdout",
     "output_type": "stream",
     "text": [
      "['vani', 'firdous', 'ayesha', 'sara', 'david', 'naveen', 'ahmed', 'kunal']\n"
     ]
    }
   ],
   "source": [
    "print(students)"
   ]
  },
  {
   "cell_type": "code",
   "execution_count": null,
   "id": "dfef5dd4",
   "metadata": {},
   "outputs": [],
   "source": [
    "# Requirement to delete vani from the list above "
   ]
  },
  {
   "cell_type": "code",
   "execution_count": 36,
   "id": "d945700e",
   "metadata": {},
   "outputs": [],
   "source": [
    "del students[0]"
   ]
  },
  {
   "cell_type": "code",
   "execution_count": 37,
   "id": "afe5582d",
   "metadata": {},
   "outputs": [
    {
     "name": "stdout",
     "output_type": "stream",
     "text": [
      "['firdous', 'ayesha', 'sara', 'david', 'naveen', 'ahmed', 'kunal']\n"
     ]
    }
   ],
   "source": [
    "print(students)"
   ]
  },
  {
   "cell_type": "code",
   "execution_count": null,
   "id": "d7e59291",
   "metadata": {},
   "outputs": [],
   "source": []
  },
  {
   "cell_type": "code",
   "execution_count": null,
   "id": "086828ce",
   "metadata": {},
   "outputs": [],
   "source": [
    "*** Interview question - can you please explain the difference between remove and del methods in list"
   ]
  },
  {
   "cell_type": "code",
   "execution_count": null,
   "id": "c013c1a7",
   "metadata": {},
   "outputs": [],
   "source": []
  },
  {
   "cell_type": "code",
   "execution_count": null,
   "id": "c3dd9106",
   "metadata": {},
   "outputs": [],
   "source": []
  }
 ],
 "metadata": {
  "kernelspec": {
   "display_name": "Python 3 (ipykernel)",
   "language": "python",
   "name": "python3"
  },
  "language_info": {
   "codemirror_mode": {
    "name": "ipython",
    "version": 3
   },
   "file_extension": ".py",
   "mimetype": "text/x-python",
   "name": "python",
   "nbconvert_exporter": "python",
   "pygments_lexer": "ipython3",
   "version": "3.9.12"
  }
 },
 "nbformat": 4,
 "nbformat_minor": 5
}
