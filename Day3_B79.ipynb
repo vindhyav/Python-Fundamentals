{
 "cells": [
  {
   "cell_type": "code",
   "execution_count": null,
   "id": "48ea823e",
   "metadata": {},
   "outputs": [],
   "source": [
    "Continuation with string data types"
   ]
  },
  {
   "cell_type": "code",
   "execution_count": null,
   "id": "40a13fac",
   "metadata": {},
   "outputs": [],
   "source": []
  },
  {
   "cell_type": "code",
   "execution_count": null,
   "id": "b5b3d1ba",
   "metadata": {},
   "outputs": [],
   "source": [
    "Understanding the concept of f strings :"
   ]
  },
  {
   "cell_type": "code",
   "execution_count": null,
   "id": "328535f3",
   "metadata": {},
   "outputs": [],
   "source": []
  },
  {
   "cell_type": "code",
   "execution_count": null,
   "id": "de6450f7",
   "metadata": {},
   "outputs": [],
   "source": [
    "firstname = 'pravin'\n",
    "lastname = 'kumar'"
   ]
  },
  {
   "cell_type": "code",
   "execution_count": null,
   "id": "eca07c48",
   "metadata": {},
   "outputs": [],
   "source": [
    "# i want the full name"
   ]
  },
  {
   "cell_type": "code",
   "execution_count": null,
   "id": "76f07755",
   "metadata": {},
   "outputs": [],
   "source": []
  },
  {
   "cell_type": "code",
   "execution_count": null,
   "id": "16cad8fe",
   "metadata": {},
   "outputs": [],
   "source": [
    "f Strings :\n",
    "    # general syntax of f strings\n",
    "    f\"custom message, {placeholder-1} {place-holder2}.....{place-holder_n}\""
   ]
  },
  {
   "cell_type": "code",
   "execution_count": 6,
   "id": "d92ad699",
   "metadata": {},
   "outputs": [
    {
     "name": "stdout",
     "output_type": "stream",
     "text": [
      "pravin kumar\n"
     ]
    }
   ],
   "source": [
    "\n",
    "firstname = 'pravin'\n",
    "lastname = 'kumar'\n",
    "fullname = f\"{firstname} {lastname}\"\n",
    "print(fullname)"
   ]
  },
  {
   "cell_type": "code",
   "execution_count": 8,
   "id": "c23ad668",
   "metadata": {},
   "outputs": [
    {
     "name": "stdout",
     "output_type": "stream",
     "text": [
      "keep up the good work, pravin kumar\n"
     ]
    }
   ],
   "source": [
    "message = f\"keep up the good work, {fullname}\"\n",
    "print(message)"
   ]
  },
  {
   "cell_type": "code",
   "execution_count": 12,
   "id": "10582be7",
   "metadata": {},
   "outputs": [
    {
     "name": "stdout",
     "output_type": "stream",
     "text": [
      "keep up the good work, Pravin Kumar\n"
     ]
    }
   ],
   "source": [
    "message = f\"keep up the good work, {fullname.title()}\"\n",
    "print(message)"
   ]
  },
  {
   "cell_type": "code",
   "execution_count": null,
   "id": "8f59fbb2",
   "metadata": {},
   "outputs": [],
   "source": []
  },
  {
   "cell_type": "code",
   "execution_count": null,
   "id": "9068a5c7",
   "metadata": {},
   "outputs": [],
   "source": [
    "adding whitespaces to strings:"
   ]
  },
  {
   "cell_type": "code",
   "execution_count": null,
   "id": "6a6ef70b",
   "metadata": {},
   "outputs": [],
   "source": [
    "#"
   ]
  },
  {
   "cell_type": "code",
   "execution_count": 13,
   "id": "1c49a9a5",
   "metadata": {},
   "outputs": [
    {
     "name": "stdout",
     "output_type": "stream",
     "text": [
      "fav_lang:pythonjavacc++swiftjavascript\n"
     ]
    }
   ],
   "source": [
    "print(\"fav_lang:pythonjavacc++swiftjavascript\")"
   ]
  },
  {
   "cell_type": "code",
   "execution_count": 14,
   "id": "c8ac6233",
   "metadata": {},
   "outputs": [
    {
     "name": "stdout",
     "output_type": "stream",
     "text": [
      "fav_lang:\n",
      "python\n",
      "java\n",
      "c\n",
      "c++\n",
      "swift\n",
      "javascript\n"
     ]
    }
   ],
   "source": [
    "print(\"fav_lang:\\npython\\njava\\nc\\nc++\\nswift\\njavascript\")"
   ]
  },
  {
   "cell_type": "code",
   "execution_count": null,
   "id": "eba7dc4f",
   "metadata": {},
   "outputs": [],
   "source": [
    "\\n ===> new line delimiter"
   ]
  },
  {
   "cell_type": "code",
   "execution_count": 15,
   "id": "7cf30c95",
   "metadata": {},
   "outputs": [
    {
     "name": "stdout",
     "output_type": "stream",
     "text": [
      "fav_lang:\n",
      "\tpython\n",
      "\tjava\n",
      "\tc\n",
      "\tc++\n",
      "\tswift\n",
      "\tjavascript\n"
     ]
    }
   ],
   "source": [
    "print(\"fav_lang:\\n\\tpython\\n\\tjava\\n\\tc\\n\\tc++\\n\\tswift\\n\\tjavascript\")"
   ]
  },
  {
   "cell_type": "code",
   "execution_count": null,
   "id": "25eabe72",
   "metadata": {},
   "outputs": [],
   "source": [
    "\\t ===> tab delimiter"
   ]
  },
  {
   "cell_type": "code",
   "execution_count": null,
   "id": "e5410bb1",
   "metadata": {},
   "outputs": [],
   "source": []
  },
  {
   "cell_type": "code",
   "execution_count": null,
   "id": "490f1b89",
   "metadata": {},
   "outputs": [],
   "source": [
    "Removing whitespaces from strings"
   ]
  },
  {
   "cell_type": "code",
   "execution_count": 24,
   "id": "cf98cd68",
   "metadata": {},
   "outputs": [
    {
     "name": "stdout",
     "output_type": "stream",
     "text": [
      "  python\n"
     ]
    }
   ],
   "source": [
    "language='  python'\n",
    "print(language)"
   ]
  },
  {
   "cell_type": "code",
   "execution_count": 17,
   "id": "41dacbe2",
   "metadata": {},
   "outputs": [
    {
     "name": "stdout",
     "output_type": "stream",
     "text": [
      "python  \n"
     ]
    }
   ],
   "source": [
    "language2='python  '\n",
    "print(language2)"
   ]
  },
  {
   "cell_type": "code",
   "execution_count": 19,
   "id": "2f3ab056",
   "metadata": {},
   "outputs": [
    {
     "name": "stdout",
     "output_type": "stream",
     "text": [
      " python \n"
     ]
    }
   ],
   "source": [
    "language3=' python '\n",
    "print(language3)"
   ]
  },
  {
   "cell_type": "code",
   "execution_count": null,
   "id": "ab7a2dad",
   "metadata": {},
   "outputs": [],
   "source": []
  },
  {
   "cell_type": "code",
   "execution_count": 25,
   "id": "83a5daaf",
   "metadata": {},
   "outputs": [
    {
     "data": {
      "text/plain": [
       "'python'"
      ]
     },
     "execution_count": 25,
     "metadata": {},
     "output_type": "execute_result"
    }
   ],
   "source": [
    "language.lstrip()"
   ]
  },
  {
   "cell_type": "code",
   "execution_count": 22,
   "id": "87824014",
   "metadata": {},
   "outputs": [
    {
     "data": {
      "text/plain": [
       "'python'"
      ]
     },
     "execution_count": 22,
     "metadata": {},
     "output_type": "execute_result"
    }
   ],
   "source": [
    "language2.rstrip()"
   ]
  },
  {
   "cell_type": "code",
   "execution_count": 26,
   "id": "60e1b2b1",
   "metadata": {},
   "outputs": [
    {
     "data": {
      "text/plain": [
       "'python'"
      ]
     },
     "execution_count": 26,
     "metadata": {},
     "output_type": "execute_result"
    }
   ],
   "source": [
    "language3.strip()"
   ]
  },
  {
   "cell_type": "code",
   "execution_count": null,
   "id": "169b3f09",
   "metadata": {},
   "outputs": [],
   "source": []
  },
  {
   "cell_type": "code",
   "execution_count": null,
   "id": "cb772e9d",
   "metadata": {},
   "outputs": [],
   "source": []
  }
 ],
 "metadata": {
  "kernelspec": {
   "display_name": "Python 3 (ipykernel)",
   "language": "python",
   "name": "python3"
  },
  "language_info": {
   "codemirror_mode": {
    "name": "ipython",
    "version": 3
   },
   "file_extension": ".py",
   "mimetype": "text/x-python",
   "name": "python",
   "nbconvert_exporter": "python",
   "pygments_lexer": "ipython3",
   "version": "3.9.12"
  }
 },
 "nbformat": 4,
 "nbformat_minor": 5
}
