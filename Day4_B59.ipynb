{
 "cells": [
  {
   "cell_type": "code",
   "execution_count": null,
   "id": "d57aab1e",
   "metadata": {},
   "outputs": [],
   "source": [
    "Introduction to List data type"
   ]
  },
  {
   "cell_type": "code",
   "execution_count": null,
   "id": "8313781c",
   "metadata": {},
   "outputs": [],
   "source": []
  },
  {
   "cell_type": "code",
   "execution_count": null,
   "id": "11821387",
   "metadata": {},
   "outputs": [],
   "source": [
    "definition : A list is a collection of items declared in a paticular order\n",
    "classification : it is classified as a mutable data type\n",
    "    \n",
    "How to list the list data type ---> by using square brackets -----> []"
   ]
  },
  {
   "cell_type": "code",
   "execution_count": null,
   "id": "c7e8118c",
   "metadata": {},
   "outputs": [],
   "source": []
  },
  {
   "cell_type": "code",
   "execution_count": 1,
   "id": "c55fb8c6",
   "metadata": {},
   "outputs": [],
   "source": [
    "students = ['arya','jini','john','hari','david','nithya'] #0,1,2,3,4,5"
   ]
  },
  {
   "cell_type": "code",
   "execution_count": 2,
   "id": "0d4fc462",
   "metadata": {},
   "outputs": [
    {
     "name": "stdout",
     "output_type": "stream",
     "text": [
      "['arya', 'jini', 'john', 'hari', 'david', 'nithya']\n"
     ]
    }
   ],
   "source": [
    "print(students)"
   ]
  },
  {
   "cell_type": "code",
   "execution_count": null,
   "id": "ad129cac",
   "metadata": {},
   "outputs": [],
   "source": []
  },
  {
   "cell_type": "code",
   "execution_count": 3,
   "id": "5cb43010",
   "metadata": {},
   "outputs": [
    {
     "data": {
      "text/plain": [
       "list"
      ]
     },
     "execution_count": 3,
     "metadata": {},
     "output_type": "execute_result"
    }
   ],
   "source": [
    "type(students)"
   ]
  },
  {
   "cell_type": "code",
   "execution_count": null,
   "id": "0bc18007",
   "metadata": {},
   "outputs": [],
   "source": []
  },
  {
   "cell_type": "code",
   "execution_count": null,
   "id": "656dea39",
   "metadata": {},
   "outputs": [],
   "source": [
    "# How to access the above elements from the list ??"
   ]
  },
  {
   "cell_type": "code",
   "execution_count": null,
   "id": "f9f13945",
   "metadata": {},
   "outputs": [],
   "source": [
    "Introduction to Indexing : it will start from zero :  0,1,2,3 ...."
   ]
  },
  {
   "cell_type": "code",
   "execution_count": null,
   "id": "9fccbdb9",
   "metadata": {},
   "outputs": [],
   "source": [
    "# How to access john's name from the above list"
   ]
  },
  {
   "cell_type": "code",
   "execution_count": 4,
   "id": "2b8a352d",
   "metadata": {},
   "outputs": [
    {
     "name": "stdout",
     "output_type": "stream",
     "text": [
      "john\n"
     ]
    }
   ],
   "source": [
    "print(students[2])"
   ]
  },
  {
   "cell_type": "code",
   "execution_count": null,
   "id": "45bc5a1d",
   "metadata": {},
   "outputs": [],
   "source": []
  },
  {
   "cell_type": "code",
   "execution_count": null,
   "id": "1b0962cc",
   "metadata": {},
   "outputs": [],
   "source": [
    "# How to access david's name from the above list"
   ]
  },
  {
   "cell_type": "code",
   "execution_count": 5,
   "id": "c8481a42",
   "metadata": {},
   "outputs": [
    {
     "name": "stdout",
     "output_type": "stream",
     "text": [
      "david\n"
     ]
    }
   ],
   "source": [
    "print(students[4])"
   ]
  },
  {
   "cell_type": "code",
   "execution_count": null,
   "id": "62d471da",
   "metadata": {},
   "outputs": [],
   "source": []
  },
  {
   "cell_type": "code",
   "execution_count": null,
   "id": "cb45472d",
   "metadata": {},
   "outputs": [],
   "source": [
    "# to print the name in the correct format - title method"
   ]
  },
  {
   "cell_type": "code",
   "execution_count": 7,
   "id": "23cf6663",
   "metadata": {},
   "outputs": [
    {
     "name": "stdout",
     "output_type": "stream",
     "text": [
      "David\n"
     ]
    }
   ],
   "source": [
    "print(students[4].title())"
   ]
  },
  {
   "cell_type": "code",
   "execution_count": null,
   "id": "1ed2a923",
   "metadata": {},
   "outputs": [],
   "source": []
  },
  {
   "cell_type": "code",
   "execution_count": null,
   "id": "a0d1e75f",
   "metadata": {},
   "outputs": [],
   "source": [
    "1. How to add new elements to the list\n",
    "2. How to modify the elements in the list\n",
    "3. How to delete the elements in the list"
   ]
  },
  {
   "cell_type": "code",
   "execution_count": null,
   "id": "e3a2bc2c",
   "metadata": {},
   "outputs": [],
   "source": []
  },
  {
   "cell_type": "code",
   "execution_count": 8,
   "id": "d7e23dd0",
   "metadata": {},
   "outputs": [
    {
     "name": "stdout",
     "output_type": "stream",
     "text": [
      "['arya', 'jini', 'john', 'hari', 'david', 'nithya']\n"
     ]
    }
   ],
   "source": [
    "print(students)"
   ]
  },
  {
   "cell_type": "code",
   "execution_count": null,
   "id": "25cb7bdc",
   "metadata": {},
   "outputs": [],
   "source": [
    "# How to add name - Sachin to the above list"
   ]
  },
  {
   "cell_type": "code",
   "execution_count": null,
   "id": "69aea128",
   "metadata": {},
   "outputs": [],
   "source": [
    "# Append method"
   ]
  },
  {
   "cell_type": "code",
   "execution_count": 9,
   "id": "e2e38e2c",
   "metadata": {},
   "outputs": [],
   "source": [
    "students.append('sachin')"
   ]
  },
  {
   "cell_type": "code",
   "execution_count": 10,
   "id": "c84a6c76",
   "metadata": {},
   "outputs": [
    {
     "name": "stdout",
     "output_type": "stream",
     "text": [
      "['arya', 'jini', 'john', 'hari', 'david', 'nithya', 'sachin']\n"
     ]
    }
   ],
   "source": [
    "print(students)"
   ]
  },
  {
   "cell_type": "code",
   "execution_count": null,
   "id": "38809d98",
   "metadata": {},
   "outputs": [],
   "source": []
  },
  {
   "cell_type": "code",
   "execution_count": null,
   "id": "4e7f3f61",
   "metadata": {},
   "outputs": [],
   "source": [
    "# How to add name - Sachin to the above list"
   ]
  },
  {
   "cell_type": "code",
   "execution_count": 11,
   "id": "30699950",
   "metadata": {},
   "outputs": [],
   "source": [
    "students.append('lavanya')"
   ]
  },
  {
   "cell_type": "code",
   "execution_count": 12,
   "id": "27a374d9",
   "metadata": {},
   "outputs": [
    {
     "name": "stdout",
     "output_type": "stream",
     "text": [
      "['arya', 'jini', 'john', 'hari', 'david', 'nithya', 'sachin', 'lavanya']\n"
     ]
    }
   ],
   "source": [
    "print(students)"
   ]
  },
  {
   "cell_type": "code",
   "execution_count": null,
   "id": "c488eeab",
   "metadata": {},
   "outputs": [],
   "source": [
    "# whenever we are using append method, elements are getting added to the last position"
   ]
  },
  {
   "cell_type": "code",
   "execution_count": null,
   "id": "69cc5e02",
   "metadata": {},
   "outputs": [],
   "source": []
  },
  {
   "cell_type": "code",
   "execution_count": null,
   "id": "7770b7d5",
   "metadata": {},
   "outputs": [],
   "source": [
    "# How to add the elements to the desired position in the list"
   ]
  },
  {
   "cell_type": "code",
   "execution_count": null,
   "id": "488647bb",
   "metadata": {},
   "outputs": [],
   "source": [
    "# How to Add 'charan' name to the 2nd index"
   ]
  },
  {
   "cell_type": "code",
   "execution_count": null,
   "id": "e6744ae4",
   "metadata": {},
   "outputs": [],
   "source": [
    "# Insert method"
   ]
  },
  {
   "cell_type": "code",
   "execution_count": 13,
   "id": "ba77e08a",
   "metadata": {},
   "outputs": [],
   "source": [
    "students.insert(2,'charan')"
   ]
  },
  {
   "cell_type": "code",
   "execution_count": 14,
   "id": "c6729f9c",
   "metadata": {},
   "outputs": [
    {
     "name": "stdout",
     "output_type": "stream",
     "text": [
      "['arya', 'jini', 'charan', 'john', 'hari', 'david', 'nithya', 'sachin', 'lavanya']\n"
     ]
    }
   ],
   "source": [
    "print(students)"
   ]
  },
  {
   "cell_type": "code",
   "execution_count": null,
   "id": "8ab6738c",
   "metadata": {},
   "outputs": [],
   "source": [
    "***** Interview Question : What is the difference between append and a insert method in a list *****"
   ]
  },
  {
   "cell_type": "code",
   "execution_count": null,
   "id": "7397519d",
   "metadata": {},
   "outputs": [],
   "source": [
    "Append method adds elements to the end of the list where as using Insert method we can add elements \n",
    "to the desired position/index in the list"
   ]
  },
  {
   "cell_type": "code",
   "execution_count": null,
   "id": "1f3142fc",
   "metadata": {},
   "outputs": [],
   "source": []
  },
  {
   "cell_type": "code",
   "execution_count": null,
   "id": "8b6ecd76",
   "metadata": {},
   "outputs": [],
   "source": [
    "# How to modify the elements in the list"
   ]
  },
  {
   "cell_type": "code",
   "execution_count": 15,
   "id": "34e9781e",
   "metadata": {},
   "outputs": [
    {
     "name": "stdout",
     "output_type": "stream",
     "text": [
      "['arya', 'jini', 'charan', 'john', 'hari', 'david', 'nithya', 'sachin', 'lavanya']\n"
     ]
    }
   ],
   "source": [
    "print(students)"
   ]
  },
  {
   "cell_type": "code",
   "execution_count": null,
   "id": "2aec031c",
   "metadata": {},
   "outputs": [],
   "source": [
    "# How to modify charan's name to \"chaitanya\""
   ]
  },
  {
   "cell_type": "code",
   "execution_count": 16,
   "id": "cb4fb10e",
   "metadata": {},
   "outputs": [
    {
     "name": "stdout",
     "output_type": "stream",
     "text": [
      "charan\n"
     ]
    }
   ],
   "source": [
    "print(students[2])"
   ]
  },
  {
   "cell_type": "code",
   "execution_count": 17,
   "id": "3cbc0f40",
   "metadata": {},
   "outputs": [],
   "source": [
    "students[2]='chaitanya'"
   ]
  },
  {
   "cell_type": "code",
   "execution_count": 18,
   "id": "24ce3417",
   "metadata": {},
   "outputs": [
    {
     "name": "stdout",
     "output_type": "stream",
     "text": [
      "chaitanya\n"
     ]
    }
   ],
   "source": [
    "print(students[2])"
   ]
  },
  {
   "cell_type": "code",
   "execution_count": 19,
   "id": "c7e03e91",
   "metadata": {},
   "outputs": [
    {
     "name": "stdout",
     "output_type": "stream",
     "text": [
      "['arya', 'jini', 'chaitanya', 'john', 'hari', 'david', 'nithya', 'sachin', 'lavanya']\n"
     ]
    }
   ],
   "source": [
    "print(students)"
   ]
  },
  {
   "cell_type": "code",
   "execution_count": null,
   "id": "3eb37a3b",
   "metadata": {},
   "outputs": [],
   "source": [
    "# The above concept of modifying the list indicates that list is a mutable data type"
   ]
  },
  {
   "cell_type": "code",
   "execution_count": null,
   "id": "6236c243",
   "metadata": {},
   "outputs": [],
   "source": []
  },
  {
   "cell_type": "code",
   "execution_count": null,
   "id": "ad3e5c1f",
   "metadata": {},
   "outputs": [],
   "source": [
    "How to delete the elements in the list"
   ]
  },
  {
   "cell_type": "code",
   "execution_count": 20,
   "id": "4ce40a17",
   "metadata": {},
   "outputs": [
    {
     "name": "stdout",
     "output_type": "stream",
     "text": [
      "['arya', 'jini', 'chaitanya', 'john', 'hari', 'david', 'nithya', 'sachin', 'lavanya']\n"
     ]
    }
   ],
   "source": [
    "print(students)"
   ]
  },
  {
   "cell_type": "code",
   "execution_count": null,
   "id": "808f8606",
   "metadata": {},
   "outputs": [],
   "source": [
    "# How to delete \"david\" from the above list"
   ]
  },
  {
   "cell_type": "code",
   "execution_count": null,
   "id": "176e485f",
   "metadata": {},
   "outputs": [],
   "source": [
    "# del method"
   ]
  },
  {
   "cell_type": "code",
   "execution_count": 21,
   "id": "963eac58",
   "metadata": {},
   "outputs": [],
   "source": [
    "del students[5]"
   ]
  },
  {
   "cell_type": "code",
   "execution_count": 22,
   "id": "779a4a31",
   "metadata": {},
   "outputs": [
    {
     "name": "stdout",
     "output_type": "stream",
     "text": [
      "['arya', 'jini', 'chaitanya', 'john', 'hari', 'nithya', 'sachin', 'lavanya']\n"
     ]
    }
   ],
   "source": [
    "print(students)"
   ]
  },
  {
   "cell_type": "code",
   "execution_count": null,
   "id": "1f0710c3",
   "metadata": {},
   "outputs": [],
   "source": []
  },
  {
   "cell_type": "code",
   "execution_count": null,
   "id": "8f70a94b",
   "metadata": {},
   "outputs": [],
   "source": []
  },
  {
   "cell_type": "code",
   "execution_count": null,
   "id": "283c5205",
   "metadata": {},
   "outputs": [],
   "source": []
  }
 ],
 "metadata": {
  "kernelspec": {
   "display_name": "Python 3 (ipykernel)",
   "language": "python",
   "name": "python3"
  },
  "language_info": {
   "codemirror_mode": {
    "name": "ipython",
    "version": 3
   },
   "file_extension": ".py",
   "mimetype": "text/x-python",
   "name": "python",
   "nbconvert_exporter": "python",
   "pygments_lexer": "ipython3",
   "version": "3.9.12"
  }
 },
 "nbformat": 4,
 "nbformat_minor": 5
}
