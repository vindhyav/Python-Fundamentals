{
 "cells": [
  {
   "cell_type": "code",
   "execution_count": null,
   "id": "dde1eb98",
   "metadata": {},
   "outputs": [],
   "source": [
    "Understanding variables in python"
   ]
  },
  {
   "cell_type": "code",
   "execution_count": 1,
   "id": "c0d3de68",
   "metadata": {},
   "outputs": [
    {
     "name": "stdout",
     "output_type": "stream",
     "text": [
      "9\n"
     ]
    }
   ],
   "source": [
    "x = 5\n",
    "y = 4\n",
    "z = x + y\n",
    "print (z)"
   ]
  },
  {
   "cell_type": "code",
   "execution_count": null,
   "id": "0384ce35",
   "metadata": {},
   "outputs": [],
   "source": [
    "Rules for declaring variables in python"
   ]
  },
  {
   "cell_type": "code",
   "execution_count": null,
   "id": "2b00b37a",
   "metadata": {},
   "outputs": [],
   "source": [
    "Rule 1 - there should not be any namespaces while declaring variables"
   ]
  },
  {
   "cell_type": "code",
   "execution_count": null,
   "id": "1b1dc442",
   "metadata": {},
   "outputs": [],
   "source": [
    "Wrong Syntax"
   ]
  },
  {
   "cell_type": "code",
   "execution_count": 2,
   "id": "1d7c0af9",
   "metadata": {},
   "outputs": [
    {
     "ename": "SyntaxError",
     "evalue": "invalid syntax (972016466.py, line 1)",
     "output_type": "error",
     "traceback": [
      "\u001b[1;36m  Input \u001b[1;32mIn [2]\u001b[1;36m\u001b[0m\n\u001b[1;33m    first name = \"vini\"\u001b[0m\n\u001b[1;37m          ^\u001b[0m\n\u001b[1;31mSyntaxError\u001b[0m\u001b[1;31m:\u001b[0m invalid syntax\n"
     ]
    }
   ],
   "source": [
    "first name = \"vini\"\n",
    "print(first name)"
   ]
  },
  {
   "cell_type": "code",
   "execution_count": null,
   "id": "658d780d",
   "metadata": {},
   "outputs": [],
   "source": [
    "Correct Syntax"
   ]
  },
  {
   "cell_type": "code",
   "execution_count": 4,
   "id": "db74bea7",
   "metadata": {},
   "outputs": [
    {
     "name": "stdout",
     "output_type": "stream",
     "text": [
      "vini\n"
     ]
    }
   ],
   "source": [
    "firstname = \"vini\"\n",
    "print(firstname)"
   ]
  },
  {
   "cell_type": "raw",
   "id": "71413d31",
   "metadata": {},
   "source": []
  },
  {
   "cell_type": "code",
   "execution_count": null,
   "id": "8175e921",
   "metadata": {},
   "outputs": [],
   "source": [
    "Rule 2 - The variable name should not start with a number, it can have numbers in between or at the end"
   ]
  },
  {
   "cell_type": "code",
   "execution_count": 6,
   "id": "5d5c1fce",
   "metadata": {},
   "outputs": [
    {
     "ename": "SyntaxError",
     "evalue": "invalid syntax (1624275174.py, line 1)",
     "output_type": "error",
     "traceback": [
      "\u001b[1;36m  Input \u001b[1;32mIn [6]\u001b[1;36m\u001b[0m\n\u001b[1;33m    1name =\"vini\"\u001b[0m\n\u001b[1;37m     ^\u001b[0m\n\u001b[1;31mSyntaxError\u001b[0m\u001b[1;31m:\u001b[0m invalid syntax\n"
     ]
    }
   ],
   "source": [
    "1name =\"vini\"\n",
    "print(1name)"
   ]
  },
  {
   "cell_type": "code",
   "execution_count": 8,
   "id": "593aa0da",
   "metadata": {},
   "outputs": [
    {
     "name": "stdout",
     "output_type": "stream",
     "text": [
      "vini\n"
     ]
    }
   ],
   "source": [
    "name1 = \"vini\"\n",
    "print(name1)"
   ]
  },
  {
   "cell_type": "code",
   "execution_count": null,
   "id": "36408bd5",
   "metadata": {},
   "outputs": [],
   "source": []
  },
  {
   "cell_type": "code",
   "execution_count": 17,
   "id": "b31c6f30",
   "metadata": {},
   "outputs": [
    {
     "name": "stdout",
     "output_type": "stream",
     "text": [
      "john doe\n"
     ]
    }
   ],
   "source": [
    "name1new = \"john doe\"\n",
    "print(name1new)"
   ]
  },
  {
   "cell_type": "code",
   "execution_count": null,
   "id": "19ebeca0",
   "metadata": {},
   "outputs": [],
   "source": []
  },
  {
   "cell_type": "code",
   "execution_count": null,
   "id": "faa621cd",
   "metadata": {},
   "outputs": [],
   "source": [
    "Rule 3 - A variable name should not contain any special characters"
   ]
  },
  {
   "cell_type": "code",
   "execution_count": 12,
   "id": "dc52066e",
   "metadata": {},
   "outputs": [
    {
     "ename": "SyntaxError",
     "evalue": "invalid syntax (1611450582.py, line 1)",
     "output_type": "error",
     "traceback": [
      "\u001b[1;36m  Input \u001b[1;32mIn [12]\u001b[1;36m\u001b[0m\n\u001b[1;33m    name@ = \"vini\"\u001b[0m\n\u001b[1;37m          ^\u001b[0m\n\u001b[1;31mSyntaxError\u001b[0m\u001b[1;31m:\u001b[0m invalid syntax\n"
     ]
    }
   ],
   "source": [
    "name@ = \"vini\"\n",
    "print (name@)"
   ]
  },
  {
   "cell_type": "code",
   "execution_count": null,
   "id": "2184bde1",
   "metadata": {},
   "outputs": [],
   "source": [
    "For executing the cells we have to press shift + enter and it will have number beside the cell for executed cells"
   ]
  },
  {
   "cell_type": "code",
   "execution_count": null,
   "id": "cae198e1",
   "metadata": {},
   "outputs": [],
   "source": []
  },
  {
   "cell_type": "code",
   "execution_count": null,
   "id": "1b368a2f",
   "metadata": {},
   "outputs": [],
   "source": [
    "Introduction to data types in Python\n",
    "1. String (str)\n",
    "2. Numbers - integers (int) and float (float) (decimals)\n",
    "3. list (list)\n",
    "4. tuples (tuple)\n",
    "5. dictionaries (dict)"
   ]
  },
  {
   "cell_type": "code",
   "execution_count": null,
   "id": "c1d2186e",
   "metadata": {},
   "outputs": [],
   "source": []
  },
  {
   "cell_type": "code",
   "execution_count": null,
   "id": "7ba73ad0",
   "metadata": {},
   "outputs": [],
   "source": [
    "classification of datatypes in python\n",
    "1. mutable - which we can edit and alter ====> flexible in nature\n",
    "2. immutable - which we cannot edit and alter  ===> fixed in nature"
   ]
  },
  {
   "cell_type": "code",
   "execution_count": null,
   "id": "ce993dec",
   "metadata": {},
   "outputs": [],
   "source": []
  },
  {
   "cell_type": "code",
   "execution_count": null,
   "id": "7f87d2cd",
   "metadata": {},
   "outputs": [],
   "source": []
  },
  {
   "cell_type": "code",
   "execution_count": null,
   "id": "3b71aa12",
   "metadata": {},
   "outputs": [],
   "source": [
    "Introduction to string datatype\n",
    "\n",
    "Definition - A string is a series of characters declared in quotes\n",
    "Classification - it is a immutable data type\n",
    "\n",
    "How to declare string data type\n",
    "\n",
    "3 approaches to declare string\n",
    "\n",
    "1. single quotes\n",
    "2. double quotes\n",
    "3. triple quotes"
   ]
  },
  {
   "cell_type": "code",
   "execution_count": null,
   "id": "0f2c427c",
   "metadata": {},
   "outputs": [],
   "source": []
  },
  {
   "cell_type": "code",
   "execution_count": 14,
   "id": "86d06d42",
   "metadata": {},
   "outputs": [
    {
     "name": "stdout",
     "output_type": "stream",
     "text": [
      "ravi\n"
     ]
    }
   ],
   "source": [
    "name1 = 'ravi'    # single quotes\n",
    "print(name1)"
   ]
  },
  {
   "cell_type": "code",
   "execution_count": null,
   "id": "dbc3d457",
   "metadata": {},
   "outputs": [],
   "source": []
  },
  {
   "cell_type": "code",
   "execution_count": 15,
   "id": "131540d4",
   "metadata": {},
   "outputs": [
    {
     "name": "stdout",
     "output_type": "stream",
     "text": [
      "john\n"
     ]
    }
   ],
   "source": [
    "name2 = \"john\"   #double quotes\n",
    "print(name2)"
   ]
  },
  {
   "cell_type": "code",
   "execution_count": null,
   "id": "60c8591d",
   "metadata": {},
   "outputs": [],
   "source": []
  },
  {
   "cell_type": "code",
   "execution_count": 16,
   "id": "2991a37f",
   "metadata": {},
   "outputs": [
    {
     "name": "stdout",
     "output_type": "stream",
     "text": [
      "keerti\n"
     ]
    }
   ],
   "source": [
    "name3 = \"\"\"keerti\"\"\"   #triple quotes\n",
    "print(name3)"
   ]
  },
  {
   "cell_type": "code",
   "execution_count": null,
   "id": "83f6a708",
   "metadata": {},
   "outputs": [],
   "source": []
  }
 ],
 "metadata": {
  "kernelspec": {
   "display_name": "Python 3 (ipykernel)",
   "language": "python",
   "name": "python3"
  },
  "language_info": {
   "codemirror_mode": {
    "name": "ipython",
    "version": 3
   },
   "file_extension": ".py",
   "mimetype": "text/x-python",
   "name": "python",
   "nbconvert_exporter": "python",
   "pygments_lexer": "ipython3",
   "version": "3.9.12"
  }
 },
 "nbformat": 4,
 "nbformat_minor": 5
}
