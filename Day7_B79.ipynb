{
 "cells": [
  {
   "cell_type": "code",
   "execution_count": null,
   "id": "134513b8",
   "metadata": {},
   "outputs": [],
   "source": [
    "Introduction to dictionary data types"
   ]
  },
  {
   "cell_type": "code",
   "execution_count": null,
   "id": "eb0b38e2",
   "metadata": {},
   "outputs": [],
   "source": [
    "Definition - A dictionary is a combination of key value pair"
   ]
  },
  {
   "cell_type": "code",
   "execution_count": null,
   "id": "833a8676",
   "metadata": {},
   "outputs": [],
   "source": [
    "Classification - It is classified as a mutable data type\n",
    "how to define dict data type ==> { }"
   ]
  },
  {
   "cell_type": "code",
   "execution_count": null,
   "id": "0984d44f",
   "metadata": {},
   "outputs": [],
   "source": []
  },
  {
   "cell_type": "code",
   "execution_count": null,
   "id": "bade3657",
   "metadata": {},
   "outputs": [],
   "source": [
    "# Reqt - creating a alien name "
   ]
  },
  {
   "cell_type": "code",
   "execution_count": 2,
   "id": "4169935f",
   "metadata": {},
   "outputs": [],
   "source": [
    "alien = {'color':'green', 'points':5}"
   ]
  },
  {
   "cell_type": "code",
   "execution_count": 3,
   "id": "934c12d5",
   "metadata": {},
   "outputs": [
    {
     "name": "stdout",
     "output_type": "stream",
     "text": [
      "{'color': 'green', 'points': 5}\n"
     ]
    }
   ],
   "source": [
    "print(alien)"
   ]
  },
  {
   "cell_type": "code",
   "execution_count": null,
   "id": "1db11c56",
   "metadata": {},
   "outputs": [],
   "source": []
  },
  {
   "cell_type": "code",
   "execution_count": 4,
   "id": "af7abd10",
   "metadata": {},
   "outputs": [
    {
     "data": {
      "text/plain": [
       "dict"
      ]
     },
     "execution_count": 4,
     "metadata": {},
     "output_type": "execute_result"
    }
   ],
   "source": [
    "type(alien)"
   ]
  },
  {
   "cell_type": "code",
   "execution_count": null,
   "id": "392118ed",
   "metadata": {},
   "outputs": [],
   "source": []
  },
  {
   "cell_type": "code",
   "execution_count": null,
   "id": "14da8497",
   "metadata": {},
   "outputs": [],
   "source": [
    "# Reqt - I want to add additional properties"
   ]
  },
  {
   "cell_type": "code",
   "execution_count": 5,
   "id": "1a1349fc",
   "metadata": {},
   "outputs": [],
   "source": [
    "alien['start_position'] = 0"
   ]
  },
  {
   "cell_type": "code",
   "execution_count": 6,
   "id": "7edf7a7e",
   "metadata": {},
   "outputs": [
    {
     "name": "stdout",
     "output_type": "stream",
     "text": [
      "{'color': 'green', 'points': 5, 'start_position': 0}\n"
     ]
    }
   ],
   "source": [
    "print(alien)"
   ]
  },
  {
   "cell_type": "code",
   "execution_count": null,
   "id": "1a0a414f",
   "metadata": {},
   "outputs": [],
   "source": []
  },
  {
   "cell_type": "code",
   "execution_count": null,
   "id": "2b82411f",
   "metadata": {},
   "outputs": [],
   "source": [
    "# How to modify key value pairs "
   ]
  },
  {
   "cell_type": "code",
   "execution_count": 7,
   "id": "bdb48ce9",
   "metadata": {},
   "outputs": [
    {
     "name": "stdout",
     "output_type": "stream",
     "text": [
      "{'color': 'green', 'points': 5, 'start_position': 0}\n"
     ]
    }
   ],
   "source": [
    "print(alien)"
   ]
  },
  {
   "cell_type": "code",
   "execution_count": 8,
   "id": "056723d3",
   "metadata": {},
   "outputs": [],
   "source": [
    "alien['start_position'] = 2"
   ]
  },
  {
   "cell_type": "code",
   "execution_count": 9,
   "id": "9f039fa4",
   "metadata": {},
   "outputs": [
    {
     "name": "stdout",
     "output_type": "stream",
     "text": [
      "{'color': 'green', 'points': 5, 'start_position': 2}\n"
     ]
    }
   ],
   "source": [
    "print(alien)"
   ]
  },
  {
   "cell_type": "code",
   "execution_count": null,
   "id": "b5b412e2",
   "metadata": {},
   "outputs": [],
   "source": []
  },
  {
   "cell_type": "code",
   "execution_count": null,
   "id": "ff9cca13",
   "metadata": {},
   "outputs": [],
   "source": []
  },
  {
   "cell_type": "code",
   "execution_count": null,
   "id": "86b5748a",
   "metadata": {},
   "outputs": [],
   "source": []
  },
  {
   "cell_type": "code",
   "execution_count": null,
   "id": "376063dc",
   "metadata": {},
   "outputs": [],
   "source": []
  },
  {
   "cell_type": "code",
   "execution_count": null,
   "id": "c76a8b67",
   "metadata": {},
   "outputs": [],
   "source": []
  },
  {
   "cell_type": "code",
   "execution_count": null,
   "id": "ee9a63f6",
   "metadata": {},
   "outputs": [],
   "source": []
  }
 ],
 "metadata": {
  "kernelspec": {
   "display_name": "Python 3 (ipykernel)",
   "language": "python",
   "name": "python3"
  },
  "language_info": {
   "codemirror_mode": {
    "name": "ipython",
    "version": 3
   },
   "file_extension": ".py",
   "mimetype": "text/x-python",
   "name": "python",
   "nbconvert_exporter": "python",
   "pygments_lexer": "ipython3",
   "version": "3.9.12"
  }
 },
 "nbformat": 4,
 "nbformat_minor": 5
}
