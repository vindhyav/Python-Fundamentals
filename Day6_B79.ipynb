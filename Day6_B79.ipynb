{
 "cells": [
  {
   "cell_type": "code",
   "execution_count": null,
   "id": "a70d871b",
   "metadata": {},
   "outputs": [],
   "source": [
    "# Introduction to looping statements"
   ]
  },
  {
   "cell_type": "code",
   "execution_count": null,
   "id": "5e5b0dd5",
   "metadata": {},
   "outputs": [],
   "source": []
  },
  {
   "cell_type": "code",
   "execution_count": null,
   "id": "51960b81",
   "metadata": {},
   "outputs": [],
   "source": [
    "for loop "
   ]
  },
  {
   "cell_type": "code",
   "execution_count": 2,
   "id": "c3b4c01a",
   "metadata": {},
   "outputs": [],
   "source": [
    "students = ['rani', 'naveen', 'ramya', 'saba', 'ayesha', 'hameed']"
   ]
  },
  {
   "cell_type": "code",
   "execution_count": 3,
   "id": "2336cc05",
   "metadata": {},
   "outputs": [
    {
     "name": "stdout",
     "output_type": "stream",
     "text": [
      "['rani', 'naveen', 'ramya', 'saba', 'ayesha', 'hameed']\n"
     ]
    }
   ],
   "source": [
    "print(students)"
   ]
  },
  {
   "cell_type": "code",
   "execution_count": 4,
   "id": "fafd041f",
   "metadata": {},
   "outputs": [
    {
     "data": {
      "text/plain": [
       "list"
      ]
     },
     "execution_count": 4,
     "metadata": {},
     "output_type": "execute_result"
    }
   ],
   "source": [
    "type(students)"
   ]
  },
  {
   "cell_type": "code",
   "execution_count": 6,
   "id": "09a1d91d",
   "metadata": {},
   "outputs": [
    {
     "name": "stdout",
     "output_type": "stream",
     "text": [
      "keep up the good work,Rani\n"
     ]
    }
   ],
   "source": [
    "print(f\"keep up the good work,{students[0].title()}\")"
   ]
  },
  {
   "cell_type": "code",
   "execution_count": 7,
   "id": "ce000b68",
   "metadata": {},
   "outputs": [
    {
     "name": "stdout",
     "output_type": "stream",
     "text": [
      "keep up the good work,Naveen\n"
     ]
    }
   ],
   "source": [
    "print(f\"keep up the good work,{students[1].title()}\")"
   ]
  },
  {
   "cell_type": "code",
   "execution_count": null,
   "id": "746d892a",
   "metadata": {},
   "outputs": [],
   "source": []
  },
  {
   "cell_type": "code",
   "execution_count": null,
   "id": "3156d8bb",
   "metadata": {},
   "outputs": [],
   "source": [
    "General syntax of for loop "
   ]
  },
  {
   "cell_type": "code",
   "execution_count": null,
   "id": "760e2ea6",
   "metadata": {},
   "outputs": [],
   "source": [
    "for tempvar in mainvar:\n",
    "print(tempvar)"
   ]
  },
  {
   "cell_type": "code",
   "execution_count": 9,
   "id": "c861577b",
   "metadata": {},
   "outputs": [
    {
     "name": "stdout",
     "output_type": "stream",
     "text": [
      "keep up the good work, rani\n",
      "keep up the good work, naveen\n",
      "keep up the good work, ramya\n",
      "keep up the good work, saba\n",
      "keep up the good work, ayesha\n",
      "keep up the good work, hameed\n"
     ]
    }
   ],
   "source": [
    "for x in students:\n",
    "    print(f\"keep up the good work, {x}\")"
   ]
  },
  {
   "cell_type": "code",
   "execution_count": 10,
   "id": "073c697d",
   "metadata": {},
   "outputs": [
    {
     "name": "stdout",
     "output_type": "stream",
     "text": [
      "rani\n",
      "naveen\n",
      "ramya\n",
      "saba\n",
      "ayesha\n",
      "hameed\n"
     ]
    }
   ],
   "source": [
    "for a in students:\n",
    "    print(a)"
   ]
  },
  {
   "cell_type": "code",
   "execution_count": null,
   "id": "0833309b",
   "metadata": {},
   "outputs": [],
   "source": []
  },
  {
   "cell_type": "code",
   "execution_count": 11,
   "id": "72c29177",
   "metadata": {},
   "outputs": [
    {
     "name": "stdout",
     "output_type": "stream",
     "text": [
      "keep up the good work, rani\n",
      "I will be looking forward to receive your github urls for review, rani\n",
      "keep up the good work, naveen\n",
      "I will be looking forward to receive your github urls for review, naveen\n",
      "keep up the good work, ramya\n",
      "I will be looking forward to receive your github urls for review, ramya\n",
      "keep up the good work, saba\n",
      "I will be looking forward to receive your github urls for review, saba\n",
      "keep up the good work, ayesha\n",
      "I will be looking forward to receive your github urls for review, ayesha\n",
      "keep up the good work, hameed\n",
      "I will be looking forward to receive your github urls for review, hameed\n"
     ]
    }
   ],
   "source": [
    "for x in students:\n",
    "    print(f\"keep up the good work, {x}\")\n",
    "    print(f\"I will be looking forward to receive your github urls for review, {x}\")"
   ]
  },
  {
   "cell_type": "code",
   "execution_count": null,
   "id": "fba4ec51",
   "metadata": {},
   "outputs": [],
   "source": []
  },
  {
   "cell_type": "code",
   "execution_count": 12,
   "id": "efa7e69f",
   "metadata": {},
   "outputs": [
    {
     "name": "stdout",
     "output_type": "stream",
     "text": [
      "keep up the good work, rani\n",
      "I will be looking forward to receive your github urls for review, rani\n",
      "\n",
      "keep up the good work, naveen\n",
      "I will be looking forward to receive your github urls for review, naveen\n",
      "\n",
      "keep up the good work, ramya\n",
      "I will be looking forward to receive your github urls for review, ramya\n",
      "\n",
      "keep up the good work, saba\n",
      "I will be looking forward to receive your github urls for review, saba\n",
      "\n",
      "keep up the good work, ayesha\n",
      "I will be looking forward to receive your github urls for review, ayesha\n",
      "\n",
      "keep up the good work, hameed\n",
      "I will be looking forward to receive your github urls for review, hameed\n",
      "\n"
     ]
    }
   ],
   "source": [
    "for x in students:\n",
    "    print(f\"keep up the good work, {x}\")\n",
    "    print(f\"I will be looking forward to receive your github urls for review, {x}\\n\")"
   ]
  },
  {
   "cell_type": "code",
   "execution_count": null,
   "id": "bac95776",
   "metadata": {},
   "outputs": [],
   "source": []
  },
  {
   "cell_type": "code",
   "execution_count": 13,
   "id": "9509a2f7",
   "metadata": {},
   "outputs": [
    {
     "ename": "IndentationError",
     "evalue": "expected an indented block (2605308868.py, line 2)",
     "output_type": "error",
     "traceback": [
      "\u001b[0;36m  Input \u001b[0;32mIn [13]\u001b[0;36m\u001b[0m\n\u001b[0;31m    print(f\"keep up the good work, {x}\")\u001b[0m\n\u001b[0m    ^\u001b[0m\n\u001b[0;31mIndentationError\u001b[0m\u001b[0;31m:\u001b[0m expected an indented block\n"
     ]
    }
   ],
   "source": [
    "for x in students:\n",
    "print(f\"keep up the good work, {x}\")\n",
    "print(f\"I will be looking forward to receive your github urls for review, {x}\\n\")"
   ]
  },
  {
   "cell_type": "code",
   "execution_count": null,
   "id": "0f9a49d1",
   "metadata": {},
   "outputs": [],
   "source": [
    "**** Interview question , for loop requires indentation, else it will throw an error"
   ]
  },
  {
   "cell_type": "code",
   "execution_count": null,
   "id": "05195a5c",
   "metadata": {},
   "outputs": [],
   "source": []
  },
  {
   "cell_type": "code",
   "execution_count": 14,
   "id": "ca986393",
   "metadata": {},
   "outputs": [
    {
     "name": "stdout",
     "output_type": "stream",
     "text": [
      "rani\n",
      "naveen\n",
      "ramya\n",
      "saba\n",
      "ayesha\n",
      "hameed\n"
     ]
    }
   ],
   "source": [
    "for a in students:\n",
    "    print(a)"
   ]
  },
  {
   "cell_type": "code",
   "execution_count": null,
   "id": "a8439324",
   "metadata": {},
   "outputs": [],
   "source": []
  },
  {
   "cell_type": "code",
   "execution_count": null,
   "id": "adf35338",
   "metadata": {},
   "outputs": [],
   "source": []
  },
  {
   "cell_type": "code",
   "execution_count": null,
   "id": "16f9d12b",
   "metadata": {},
   "outputs": [],
   "source": [
    "Introduction to tuple data type "
   ]
  },
  {
   "cell_type": "code",
   "execution_count": null,
   "id": "9f208c8a",
   "metadata": {},
   "outputs": [],
   "source": [
    "Def - An immutable list is called tuple datatype"
   ]
  },
  {
   "cell_type": "code",
   "execution_count": null,
   "id": "dc90224c",
   "metadata": {},
   "outputs": [],
   "source": [
    "Classification - it is classified as in immutable data type\n",
    "hot to define the tuple ---> () in single brackets\n",
    "Tuple cannot be altered or modified"
   ]
  },
  {
   "cell_type": "code",
   "execution_count": null,
   "id": "a6e662cc",
   "metadata": {},
   "outputs": [],
   "source": []
  },
  {
   "cell_type": "code",
   "execution_count": 16,
   "id": "5a92abfc",
   "metadata": {},
   "outputs": [],
   "source": [
    "dimensions = (200,50)"
   ]
  },
  {
   "cell_type": "code",
   "execution_count": 17,
   "id": "c693bf9d",
   "metadata": {},
   "outputs": [
    {
     "name": "stdout",
     "output_type": "stream",
     "text": [
      "(200, 50)\n"
     ]
    }
   ],
   "source": [
    "print(dimensions)"
   ]
  },
  {
   "cell_type": "code",
   "execution_count": 18,
   "id": "83d55fec",
   "metadata": {},
   "outputs": [
    {
     "data": {
      "text/plain": [
       "tuple"
      ]
     },
     "execution_count": 18,
     "metadata": {},
     "output_type": "execute_result"
    }
   ],
   "source": [
    "type(dimensions)"
   ]
  },
  {
   "cell_type": "code",
   "execution_count": null,
   "id": "0b11a5fe",
   "metadata": {},
   "outputs": [],
   "source": []
  },
  {
   "cell_type": "code",
   "execution_count": null,
   "id": "8c447fc5",
   "metadata": {},
   "outputs": [],
   "source": [
    "# Reqt - I want to change the dimension from 200 to 250 "
   ]
  },
  {
   "cell_type": "code",
   "execution_count": 19,
   "id": "06eb0b79",
   "metadata": {},
   "outputs": [
    {
     "ename": "TypeError",
     "evalue": "'tuple' object does not support item assignment",
     "output_type": "error",
     "traceback": [
      "\u001b[0;31m---------------------------------------------------------------------------\u001b[0m",
      "\u001b[0;31mTypeError\u001b[0m                                 Traceback (most recent call last)",
      "Input \u001b[0;32mIn [19]\u001b[0m, in \u001b[0;36m<cell line: 1>\u001b[0;34m()\u001b[0m\n\u001b[0;32m----> 1\u001b[0m dimensions[\u001b[38;5;241m0\u001b[39m] \u001b[38;5;241m=\u001b[39m \u001b[38;5;241m250\u001b[39m\n",
      "\u001b[0;31mTypeError\u001b[0m: 'tuple' object does not support item assignment"
     ]
    }
   ],
   "source": [
    "dimensions[0] = 250"
   ]
  },
  {
   "cell_type": "code",
   "execution_count": 20,
   "id": "e6d8e33e",
   "metadata": {},
   "outputs": [
    {
     "name": "stdout",
     "output_type": "stream",
     "text": [
      "200\n"
     ]
    }
   ],
   "source": [
    "print(dimensions[0])"
   ]
  },
  {
   "cell_type": "code",
   "execution_count": 21,
   "id": "48c53357",
   "metadata": {},
   "outputs": [
    {
     "name": "stdout",
     "output_type": "stream",
     "text": [
      "50\n"
     ]
    }
   ],
   "source": [
    "print(dimensions[1])"
   ]
  },
  {
   "cell_type": "code",
   "execution_count": 23,
   "id": "2ac020d8",
   "metadata": {},
   "outputs": [
    {
     "name": "stdout",
     "output_type": "stream",
     "text": [
      "200\n",
      "50\n"
     ]
    }
   ],
   "source": [
    "for y in dimensions:\n",
    "    print(y)"
   ]
  },
  {
   "cell_type": "code",
   "execution_count": null,
   "id": "b99be36a",
   "metadata": {},
   "outputs": [],
   "source": []
  },
  {
   "cell_type": "code",
   "execution_count": null,
   "id": "32f9013d",
   "metadata": {},
   "outputs": [],
   "source": []
  },
  {
   "cell_type": "code",
   "execution_count": null,
   "id": "ca58495e",
   "metadata": {},
   "outputs": [],
   "source": []
  },
  {
   "cell_type": "code",
   "execution_count": null,
   "id": "08efa193",
   "metadata": {},
   "outputs": [],
   "source": []
  },
  {
   "cell_type": "code",
   "execution_count": null,
   "id": "4d24d62a",
   "metadata": {},
   "outputs": [],
   "source": []
  },
  {
   "cell_type": "code",
   "execution_count": null,
   "id": "cbe3c82b",
   "metadata": {},
   "outputs": [],
   "source": []
  },
  {
   "cell_type": "code",
   "execution_count": null,
   "id": "ac523cb7",
   "metadata": {},
   "outputs": [],
   "source": []
  },
  {
   "cell_type": "code",
   "execution_count": null,
   "id": "b770b9da",
   "metadata": {},
   "outputs": [],
   "source": []
  },
  {
   "cell_type": "code",
   "execution_count": null,
   "id": "4aae053c",
   "metadata": {},
   "outputs": [],
   "source": []
  },
  {
   "cell_type": "code",
   "execution_count": null,
   "id": "7c008f10",
   "metadata": {},
   "outputs": [],
   "source": []
  },
  {
   "cell_type": "code",
   "execution_count": null,
   "id": "9f4f3556",
   "metadata": {},
   "outputs": [],
   "source": []
  }
 ],
 "metadata": {
  "kernelspec": {
   "display_name": "Python 3 (ipykernel)",
   "language": "python",
   "name": "python3"
  },
  "language_info": {
   "codemirror_mode": {
    "name": "ipython",
    "version": 3
   },
   "file_extension": ".py",
   "mimetype": "text/x-python",
   "name": "python",
   "nbconvert_exporter": "python",
   "pygments_lexer": "ipython3",
   "version": "3.9.12"
  }
 },
 "nbformat": 4,
 "nbformat_minor": 5
}
